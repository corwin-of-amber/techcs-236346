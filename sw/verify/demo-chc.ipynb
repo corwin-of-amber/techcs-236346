{
 "cells": [
  {
   "cell_type": "code",
   "execution_count": 1,
   "metadata": {},
   "outputs": [],
   "source": [
    "from z3 import *\n",
    "z3.set_param(\"proof\", True)"
   ]
  },
  {
   "cell_type": "code",
   "execution_count": 2,
   "metadata": {},
   "outputs": [
    {
     "data": {
      "text/html": [
       "<b>sat</b>"
      ],
      "text/plain": [
       "sat"
      ]
     },
     "execution_count": 2,
     "metadata": {},
     "output_type": "execute_result"
    }
   ],
   "source": [
    "a, b = Int(\"a\"), Int(\"b\")\n",
    "Reach = Function(\"Reach\", IntSort(), IntSort(), BoolSort())\n",
    "\n",
    "chcs = [\n",
    "    ForAll([a, b], Implies(And(a > 0, b > 0), Reach(a, b))),\n",
    "    ForAll([a, b], Implies(Reach(a, b), Reach(b, a + b))),\n",
    "    ForAll([a, b], Implies(Reach(a, b), And(a > 0, b > 0)))\n",
    "]\n",
    "\n",
    "s = SolverFor(\"HORN\")\n",
    "s.add(chcs)\n",
    "s.check()"
   ]
  },
  {
   "cell_type": "code",
   "execution_count": 3,
   "metadata": {},
   "outputs": [
    {
     "data": {
      "text/html": [
       "[Reach = [else &rarr; &not;(&#957;<sub>1</sub> &le; 0) &and; &not;(&#957;<sub>0</sub> &le; 0)]]"
      ],
      "text/plain": [
       "[Reach = [else -> And(Not(Var(1) <= 0), Not(Var(0) <= 0))]]"
      ]
     },
     "execution_count": 3,
     "metadata": {},
     "output_type": "execute_result"
    }
   ],
   "source": [
    "s.model()"
   ]
  },
  {
   "cell_type": "code",
   "execution_count": 4,
   "metadata": {},
   "outputs": [
    {
     "data": {
      "text/html": [
       "<b>sat</b>"
      ],
      "text/plain": [
       "sat"
      ]
     },
     "execution_count": 4,
     "metadata": {},
     "output_type": "execute_result"
    }
   ],
   "source": [
    "a, b = Int(\"a\"), Int(\"b\")\n",
    "a_next, b_next = Int(\"a'\"), Int(\"b'\")\n",
    "Reach = Function(\"Reach\", IntSort(), IntSort(), BoolSort())\n",
    "\n",
    "chcs = [\n",
    "    ForAll([a, b], Implies(And(a > 0, b > 0), Reach(a, b))),\n",
    "    ForAll([a, b, a_next, b_next], \n",
    "           Implies(And(Reach(a, b), a_next == b, b_next == a),\n",
    "                   Reach(a_next, b_next))),\n",
    "    ForAll([a, b], Implies(Reach(a, b), And(a > 0, b > 0)))\n",
    "]\n",
    "\n",
    "s = SolverFor(\"HORN\")\n",
    "s.add(chcs)\n",
    "s.check()"
   ]
  },
  {
   "cell_type": "code",
   "execution_count": 5,
   "metadata": {},
   "outputs": [
    {
     "data": {
      "text/html": [
       "[Reach = [else &rarr; &not;(&#957;<sub>1</sub> &le; 0) &and; &not;(&#957;<sub>0</sub> &le; 0)]]"
      ],
      "text/plain": [
       "[Reach = [else -> And(Not(Var(1) <= 0), Not(Var(0) <= 0))]]"
      ]
     },
     "execution_count": 5,
     "metadata": {},
     "output_type": "execute_result"
    }
   ],
   "source": [
    "s.model()"
   ]
  },
  {
   "cell_type": "code",
   "execution_count": 6,
   "metadata": {},
   "outputs": [
    {
     "data": {
      "text/html": [
       "<script src=\"https://unpkg.com/jquery@3.3.1/dist/jquery.js\"></script>"
      ],
      "text/plain": [
       "<IPython.core.display.HTML object>"
      ]
     },
     "metadata": {},
     "output_type": "display_data"
    }
   ],
   "source": [
    "import sys\n",
    "sys.path.append(\"../../hw/base\")\n",
    "\n",
    "from verification_utils import CHCs, mk_int_array"
   ]
  },
  {
   "cell_type": "code",
   "execution_count": 7,
   "metadata": {},
   "outputs": [
    {
     "data": {
      "text/html": [
       "<table style=\"background: white; color: black\"><tr><td style=\"text-align: left\">Reach</td><td style=\"text-align: left\">&not;(&#957;<sub>0</sub> &le; 0) &and; &not;(&#957;<sub>1</sub> &le; -1)</td></tr></table>"
      ],
      "text/plain": [
       "[Reach = [else -> And(Not(Var(0) <= 0), Not(Var(1) <= -1))]]"
      ]
     },
     "execution_count": 7,
     "metadata": {},
     "output_type": "execute_result"
    }
   ],
   "source": [
    "chcs = CHCs([\n",
    "    Implies(And(a > 0, b == 0), Reach(a, b)),\n",
    "    Implies(And(Reach(a, b), a_next == b + 1, b_next == a + b),\n",
    "            Reach(a_next, b_next)),\n",
    "    Implies(Reach(a, b), And(a > 0, b >= 0))\n",
    "])\n",
    "\n",
    "chcs.solve()"
   ]
  },
  {
   "cell_type": "code",
   "execution_count": 19,
   "metadata": {},
   "outputs": [
    {
     "data": {
      "text/html": [
       "<table style=\"background: white; color: black\"><tr><td style=\"text-align: left\">n &gt; 0 &and; j &ge; 0 &and; j &lt; n &rArr; Inv(a, n, 0, K(Int, 0), j)</td></tr><tr><td style=\"text-align: left\">Inv(a, n, i, mem, j) &and; i &lt; n &rArr;\n",
       "Inv(a, n, i + 1, Store(mem, i, n), j)</td></tr><tr><td style=\"text-align: left\">Inv(a, n, i, mem, j) &and; &not;(i &lt; n) &rArr; mem[j] &ne; 0</td></tr></table>"
      ],
      "text/plain": [
       "<verification_utils.CHCs at 0x106a79370>"
      ]
     },
     "execution_count": 19,
     "metadata": {},
     "output_type": "execute_result"
    }
   ],
   "source": [
    "from verification_utils import CHCs\n",
    "'''\n",
    "for (i = 0; i < n; i++) {\n",
    "    a[i] = n;\n",
    "}\n",
    "'''\n",
    "\n",
    "a, n, i, a_next, n_next, i_next = Ints(\"a n i a' n' i'\")\n",
    "mem = Array(\"mem\", IntSort(), IntSort())\n",
    "mem_next = Array(\"mem'\", IntSort(), IntSort())\n",
    "\n",
    "j = Int(\"j\")\n",
    "\n",
    "# Inv(a, n, i, mem)\n",
    "Inv = Function(\"Inv\", a.sort(), n.sort(), i.sort(), mem.sort(), j.sort(), BoolSort())\n",
    "\n",
    "chcs = CHCs([\n",
    "    Implies(And(n > 0, j >= 0, j < n), Inv(a, n, 0, K(mem.domain(), 0), j)),\n",
    "    Implies(And(Inv(a, n, i, mem, j), i < n), Inv(a, n, i + 1, Store(mem, i, n), j)),\n",
    "    ##--- Diverges! Use ghost instead\n",
    "    #Implies(And(Inv(a, n, i, mem, j), Not(i < n)), ForAll([i], Implies(And(i < n, i >= 0), mem[i] == n))),\n",
    "    Implies(And(Inv(a, n, i, mem, j), Not(i < n)), mem[j] != 0)\n",
    "])\n",
    "chcs"
   ]
  },
  {
   "cell_type": "code",
   "execution_count": 20,
   "metadata": {},
   "outputs": [
    {
     "data": {
      "text/html": [
       "<table style=\"background: white; color: black\"><tr><td style=\"text-align: left\">Inv</td><td style=\"text-align: left\">&not;(&#957;<sub>4</sub> + -1&middot;&#957;<sub>1</sub> &ge; 0) &and;\n",
       "&not;(&#957;<sub>1</sub> &le; 0) &and;\n",
       "(&not;(&#957;<sub>3</sub>[&#957;<sub>4</sub>] &le; 0) &or; &#957;<sub>4</sub> = &#957;<sub>2</sub> &or; &not;(&#957;<sub>4</sub> + -1&middot;&#957;<sub>2</sub> &le; 0))</td></tr></table>"
      ],
      "text/plain": [
       "[Inv = [else ->\n",
       "        And(Not(Var(4) + -1*Var(1) >= 0),\n",
       "            Not(Var(1) <= 0),\n",
       "            Or(Not(Var(3)[Var(4)] <= 0),\n",
       "               Var(4) == Var(2),\n",
       "               Not(Var(4) + -1*Var(2) <= 0)))]]"
      ]
     },
     "execution_count": 20,
     "metadata": {},
     "output_type": "execute_result"
    }
   ],
   "source": [
    "sol = chcs.solve({'fp.spacer.global': True})\n",
    "sol"
   ]
  },
  {
   "cell_type": "code",
   "execution_count": null,
   "metadata": {},
   "outputs": [],
   "source": []
  }
 ],
 "metadata": {
  "kernelspec": {
   "display_name": "Python 3 (ipykernel)",
   "language": "python",
   "name": "python3"
  },
  "language_info": {
   "codemirror_mode": {
    "name": "ipython",
    "version": 3
   },
   "file_extension": ".py",
   "mimetype": "text/x-python",
   "name": "python",
   "nbconvert_exporter": "python",
   "pygments_lexer": "ipython3",
   "version": "3.13.2"
  }
 },
 "nbformat": 4,
 "nbformat_minor": 4
}
