{
 "cells": [
  {
   "cell_type": "code",
   "execution_count": 1,
   "metadata": {},
   "outputs": [],
   "source": [
    "from z3 import *\n",
    "z3.set_param(\"proof\", True)"
   ]
  },
  {
   "cell_type": "code",
   "execution_count": 2,
   "metadata": {},
   "outputs": [
    {
     "data": {
      "text/html": [
       "<b>sat</b>"
      ],
      "text/plain": [
       "sat"
      ]
     },
     "execution_count": 2,
     "metadata": {},
     "output_type": "execute_result"
    }
   ],
   "source": [
    "a, b = Int(\"a\"), Int(\"b\")\n",
    "Reach = Function(\"Reach\", IntSort(), IntSort(), BoolSort())\n",
    "\n",
    "chcs = [\n",
    "    ForAll([a, b], Implies(And(a > 0, b > 0), Reach(a, b))),\n",
    "    ForAll([a, b], Implies(Reach(a, b), Reach(b, a + b))),\n",
    "    ForAll([a, b], Implies(Reach(a, b), And(a > 0, b > 0)))\n",
    "]\n",
    "\n",
    "s = SolverFor(\"HORN\")\n",
    "s.add(chcs)\n",
    "s.check()"
   ]
  },
  {
   "cell_type": "code",
   "execution_count": 3,
   "metadata": {},
   "outputs": [
    {
     "data": {
      "text/html": [
       "[Reach = [else &rarr; &not;(&#957;<sub>1</sub> &le; 0) &and; &not;(&#957;<sub>0</sub> &le; 0)]]"
      ],
      "text/plain": [
       "[Reach = [else -> And(Not(Var(1) <= 0), Not(Var(0) <= 0))]]"
      ]
     },
     "execution_count": 3,
     "metadata": {},
     "output_type": "execute_result"
    }
   ],
   "source": [
    "s.model()"
   ]
  },
  {
   "cell_type": "code",
   "execution_count": 4,
   "metadata": {},
   "outputs": [
    {
     "data": {
      "text/html": [
       "<b>sat</b>"
      ],
      "text/plain": [
       "sat"
      ]
     },
     "execution_count": 4,
     "metadata": {},
     "output_type": "execute_result"
    }
   ],
   "source": [
    "a, b = Int(\"a\"), Int(\"b\")\n",
    "a_next, b_next = Int(\"a'\"), Int(\"b'\")\n",
    "Reach = Function(\"Reach\", IntSort(), IntSort(), BoolSort())\n",
    "\n",
    "chcs = [\n",
    "    ForAll([a, b], Implies(And(a > 0, b > 0), Reach(a, b))),\n",
    "    ForAll([a, b, a_next, b_next], \n",
    "           Implies(And(Reach(a, b), a_next == b, b_next == a),\n",
    "                   Reach(a_next, b_next))),\n",
    "    ForAll([a, b], Implies(Reach(a, b), And(a > 0, b > 0)))\n",
    "]\n",
    "\n",
    "s = SolverFor(\"HORN\")\n",
    "s.add(chcs)\n",
    "s.check()"
   ]
  },
  {
   "cell_type": "code",
   "execution_count": 5,
   "metadata": {},
   "outputs": [
    {
     "data": {
      "text/html": [
       "[Reach = [else &rarr; &not;(&#957;<sub>1</sub> &le; 0) &and; &not;(&#957;<sub>0</sub> &le; 0)]]"
      ],
      "text/plain": [
       "[Reach = [else -> And(Not(Var(1) <= 0), Not(Var(0) <= 0))]]"
      ]
     },
     "execution_count": 5,
     "metadata": {},
     "output_type": "execute_result"
    }
   ],
   "source": [
    "s.model()"
   ]
  },
  {
   "cell_type": "code",
   "execution_count": 6,
   "metadata": {},
   "outputs": [],
   "source": [
    "import sys\n",
    "sys.path.append(\"../../hw/base\")\n",
    "\n",
    "from verification_utils import CHCs, mk_int_array"
   ]
  },
  {
   "cell_type": "code",
   "execution_count": 7,
   "metadata": {},
   "outputs": [
    {
     "data": {
      "text/html": [
       "[Reach = [else &rarr; &not;(&#957;<sub>0</sub> &le; 0) &and; &not;(&#957;<sub>1</sub> &le; -1)]]"
      ],
      "text/plain": [
       "[Reach = [else -> And(Not(Var(0) <= 0), Not(Var(1) <= -1))]]"
      ]
     },
     "execution_count": 7,
     "metadata": {},
     "output_type": "execute_result"
    }
   ],
   "source": [
    "chcs = CHCs([\n",
    "    Implies(And(a > 0, b == 0), Reach(a, b)),\n",
    "    Implies(And(Reach(a, b), a_next == b + 1, b_next == a + b),\n",
    "            Reach(a_next, b_next)),\n",
    "    Implies(Reach(a, b), And(a > 0, b >= 0))\n",
    "])\n",
    "\n",
    "s = chcs.create_solver()\n",
    "s.model() if s.check() == sat else s.proof()"
   ]
  },
  {
   "cell_type": "code",
   "execution_count": 11,
   "metadata": {},
   "outputs": [
    {
     "data": {
      "text/html": [
       "<table style=\"background: white; color: black\"><tr><td style=\"text-align: left\">n &gt; 0 &rArr; Inv(0, n, K(Int, 0))</td></tr><tr><td style=\"text-align: left\">Inv(i, n, mem) &and; i &lt; n &rArr; Inv(i + 1, n, Store(mem, i, n))</td></tr><tr><td style=\"text-align: left\">Inv(i, n, mem) &and; &not;(i &lt; n) &rArr; mem[i] = 0</td></tr></table>"
      ],
      "text/plain": [
       "<verification_utils.CHCs at 0x107daaad0>"
      ]
     },
     "execution_count": 11,
     "metadata": {},
     "output_type": "execute_result"
    }
   ],
   "source": [
    "#import importlib\n",
    "#import verification_utils; importlib.reload(verification_utils)\n",
    "from verification_utils import CHCs\n",
    "\n",
    "i, n, i_next, n_next = Ints(\"i n i' n'\")\n",
    "mem = Array(\"mem\", IntSort(), IntSort())\n",
    "mem_next = Array(\"mem'\", IntSort(), IntSort())\n",
    "\n",
    "Inv = Function(\"Inv\", i.sort(), n.sort(), mem.sort(), BoolSort())\n",
    "\n",
    "chcs = CHCs([\n",
    "    Implies(n > 0, Inv(0, n, K(mem.domain(), 0))),\n",
    "    Implies(And(Inv(i, n, mem), i < n), Inv(i + 1, n, Store(mem, i, n))),\n",
    "    Implies(And(Inv(i, n, mem), Not(i < n)), And(mem[i] == 0))\n",
    "])\n",
    "chcs"
   ]
  },
  {
   "cell_type": "code",
   "execution_count": 13,
   "metadata": {},
   "outputs": [],
   "source": [
    "sol = chcs.solve({'fp.spacer.global': True})"
   ]
  },
  {
   "cell_type": "code",
   "execution_count": null,
   "metadata": {},
   "outputs": [],
   "source": []
  }
 ],
 "metadata": {
  "kernelspec": {
   "display_name": "Python 3",
   "language": "python",
   "name": "python3"
  },
  "language_info": {
   "codemirror_mode": {
    "name": "ipython",
    "version": 3
   },
   "file_extension": ".py",
   "mimetype": "text/x-python",
   "name": "python",
   "nbconvert_exporter": "python",
   "pygments_lexer": "ipython3",
   "version": "3.13.2"
  }
 },
 "nbformat": 4,
 "nbformat_minor": 2
}
