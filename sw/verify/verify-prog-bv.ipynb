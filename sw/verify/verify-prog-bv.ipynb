{
 "cells": [
  {
   "cell_type": "code",
   "execution_count": 1,
   "id": "ef58576c-0a46-4f96-b80e-02305974712c",
   "metadata": {},
   "outputs": [],
   "source": [
    "import sys\n",
    "sys.path.append(\"../../hw/base\")\n",
    "\n",
    "from verification_utils import CHCs, mk_bv_array"
   ]
  },
  {
   "cell_type": "code",
   "execution_count": 2,
   "id": "b0cf1962-c33e-421a-9a5f-44d6721ff97f",
   "metadata": {},
   "outputs": [],
   "source": [
    "from z3 import *\n",
    "import z3\n",
    "z3.set_param(proof=True)"
   ]
  },
  {
   "cell_type": "markdown",
   "id": "de254a6a-257e-4051-927c-05636346cd42",
   "metadata": {},
   "source": [
    "## First Example\n",
    "\n",
    "A loop-free program"
   ]
  },
  {
   "cell_type": "code",
   "execution_count": 3,
   "id": "0c126719-3bc0-4961-9761-cff27c28e77d",
   "metadata": {},
   "outputs": [],
   "source": [
    "BW = 4   # Try higher values here\n",
    "\n",
    "stack = Array('stack', BitVecSort(BW), BitVecSort(BW))\n",
    "sp = BitVec('sp', BW)\n",
    "state_vars = [stack, sp]\n",
    "\n",
    "a, b = input_vars = BitVecs('a b', BW)"
   ]
  },
  {
   "cell_type": "code",
   "execution_count": 4,
   "id": "e6164d2d-1c47-4108-8791-046db832771b",
   "metadata": {},
   "outputs": [],
   "source": [
    "U = {i: Function(f\"U{i}\", *(v.sort() for v in [*input_vars, *state_vars]), BoolSort())\n",
    "     for i in range(6)}"
   ]
  },
  {
   "cell_type": "code",
   "execution_count": 5,
   "id": "bb2dc9b0-39fa-415e-b34e-44859ed4b895",
   "metadata": {},
   "outputs": [
    {
     "data": {
      "text/html": [
       "<table style=\"background: white\"><tr><td style=\"text-align: left\">stack = Store(Store(K(BitVec(4), 0), 0, a), 1, b) &and; sp = 2 &rArr;\n",
       "U0(a, b, stack, sp)</td></tr><tr><td style=\"text-align: left\">U0(a, b, stack, sp) &rArr; U1(a, b, Store(stack, sp, 13), sp + 1)</td></tr><tr><td style=\"text-align: left\">U1(a, b, stack, sp) &rArr;\n",
       "U2(a,\n",
       "   b,\n",
       "   Store(stack, sp - 2, stack[sp - 1]&middot;stack[sp - 2]),\n",
       "   sp - 1)</td></tr><tr><td style=\"text-align: left\">U2(a, b, stack, sp) &rArr;\n",
       "U3(a,\n",
       "   b,\n",
       "   Store(stack, sp - 2, stack[sp - 1] + stack[sp - 2]),\n",
       "   sp - 1)</td></tr><tr><td style=\"text-align: left\">U3(a, b, stack, sp) &rArr; U4(a, b, stack, sp - 1)</td></tr><tr><td style=\"text-align: left\">U4(a, b, stack, sp) &rArr; stack[sp] = a + b&middot;13</td></tr></table>"
      ],
      "text/plain": [
       "<verification_utils.CHCs at 0x107925250>"
      ]
     },
     "execution_count": 5,
     "metadata": {},
     "output_type": "execute_result"
    }
   ],
   "source": [
    "sigma = [*input_vars, *state_vars]\n",
    "\n",
    "\"\"\"\n",
    "{ stack = [a, b] }\n",
    "PUSH 13\n",
    "POP 2; ALU MUL\n",
    "POP 2; ALU ADD\n",
    "POP 1\n",
    "{ ret = a + b * 13 }\n",
    "\"\"\"\n",
    "chcs = CHCs([\n",
    "    #Implies(And(stack[0] == a, stack[1] == b, sp == 2), U[0](sigma)),\n",
    "    Implies(And(stack == mk_bv_array(stack, [a,b]), sp == 2), U[0](sigma)),\n",
    "    Implies(U[0](sigma), U[1](a, b, Store(stack, sp, 13), sp + 1)),\n",
    "    Implies(U[1](sigma), U[2](a, b, Store(stack, sp - 2, stack[sp - 1] * stack[sp - 2]), sp - 1)),\n",
    "    Implies(U[2](sigma), U[3](a, b, Store(stack, sp - 2, stack[sp - 1] + stack[sp - 2]), sp - 1)),\n",
    "    Implies(U[3](sigma), U[4](a, b, stack, sp - 1)),\n",
    "    Implies(U[4](sigma), stack[sp] == a + b * 13),\n",
    "])\n",
    "chcs"
   ]
  },
  {
   "cell_type": "code",
   "execution_count": 6,
   "id": "2b6d10a0-9e98-48ca-b922-d5302fdabebf",
   "metadata": {},
   "outputs": [
    {
     "name": "stdout",
     "output_type": "stream",
     "text": [
      "CPU times: user 3.47 ms, sys: 720 µs, total: 4.19 ms\n",
      "Wall time: 4.3 ms\n"
     ]
    },
    {
     "data": {
      "text/html": [
       "<b>sat</b>"
      ],
      "text/plain": [
       "sat"
      ]
     },
     "execution_count": 6,
     "metadata": {},
     "output_type": "execute_result"
    }
   ],
   "source": [
    "s = chcs.create_solver()\n",
    "#s.set('xform.inline_eager', False)\n",
    "#s.set('xform.inline_linear', False)\n",
    "%time s.check()"
   ]
  },
  {
   "cell_type": "code",
   "execution_count": 7,
   "id": "fcfbc256-fbc2-43cc-97ec-b3668771171c",
   "metadata": {},
   "outputs": [],
   "source": [
    "#s.model()"
   ]
  },
  {
   "cell_type": "markdown",
   "id": "d4337b07-c7e5-44b5-b5e3-5439ffec95a3",
   "metadata": {},
   "source": [
    "## Second Example: A Loop That Computes Addition\n",
    "\n",
    "The very basic: two input variables, two local variables."
   ]
  },
  {
   "cell_type": "code",
   "execution_count": 8,
   "id": "1cbe3061-79b1-4be7-8f7e-64b8621ca385",
   "metadata": {},
   "outputs": [
    {
     "data": {
      "text/html": [
       "<table style=\"background: white\"><tr><td style=\"text-align: left\">stack =\n",
       "Store(Store(Store(Store(K(BitVec(4), 0), 0, a), 1, b), 2, a),\n",
       "      3,\n",
       "      0) &and;\n",
       "sp = 4 &and;\n",
       "b &gt; 0 &rArr;\n",
       "U0(a, b, stack, sp)</td></tr><tr><td style=\"text-align: left\">U0(a,\n",
       "   b,\n",
       "   Store(Store(Store(Store(K(BitVec(4), 0), 0, a), 1, b),\n",
       "               2,\n",
       "               x),\n",
       "         3,\n",
       "         y),\n",
       "   sp) &and;\n",
       "y &lt; b &rArr;\n",
       "U0(a,\n",
       "   b,\n",
       "   Store(Store(Store(Store(K(BitVec(4), 0), 0, a), 1, b),\n",
       "               2,\n",
       "               x + 1),\n",
       "         3,\n",
       "         y + 1),\n",
       "   sp)</td></tr><tr><td style=\"text-align: left\">U0(a,\n",
       "   b,\n",
       "   Store(Store(Store(Store(K(BitVec(4), 0), 0, a), 1, b),\n",
       "               2,\n",
       "               x),\n",
       "         3,\n",
       "         y),\n",
       "   sp) &and;\n",
       "y &ge; b &rArr;\n",
       "x &gt; a</td></tr></table>"
      ],
      "text/plain": [
       "<verification_utils.CHCs at 0x107c4dfd0>"
      ]
     },
     "execution_count": 8,
     "metadata": {},
     "output_type": "execute_result"
    }
   ],
   "source": [
    "x, y = BitVecs(\"x y\", BW)\n",
    "\n",
    "chcs = CHCs([\n",
    "    Implies(And(stack == mk_bv_array(stack, [a,b,a,0]), sp == 4, b > 0), U[0](sigma)),\n",
    "    Implies(And(U[0](a, b, mk_bv_array(stack, [a, b, x, y]), sp), y < b),\n",
    "            U[0](a, b, mk_bv_array(stack, [a, b, x + 1, y + 1]), sp)),\n",
    "    Implies(And(U[0](a, b, mk_bv_array(stack, [a, b, x, y]), sp), y >= b), x > a) #== a + b)\n",
    "])\n",
    "    \n",
    "chcs"
   ]
  },
  {
   "cell_type": "code",
   "execution_count": 9,
   "id": "418771e3-1c9d-4bcf-ada1-041231c2cbb0",
   "metadata": {},
   "outputs": [
    {
     "name": "stdout",
     "output_type": "stream",
     "text": [
      "CPU times: user 9.91 s, sys: 19.7 ms, total: 9.93 s\n",
      "Wall time: 10 s\n"
     ]
    },
    {
     "data": {
      "text/html": [
       "<b>unknown</b>"
      ],
      "text/plain": [
       "unknown"
      ]
     },
     "execution_count": 9,
     "metadata": {},
     "output_type": "execute_result"
    }
   ],
   "source": [
    "s = chcs.create_solver()\n",
    "#s.set('xform.inline_eager', False)\n",
    "#s.set('xform.inline_linear', False)\n",
    "s.set(timeout=10000)\n",
    "%time s.check()"
   ]
  },
  {
   "cell_type": "markdown",
   "id": "a1af0b1b-9152-4fd9-aa8f-a8d39166c8a0",
   "metadata": {},
   "source": [
    "This did not work. The explicit array creation seems to be too much for Spacer to solve. While it is hard to find the root cause of the divergence, we might wish to explore alternative encodings of the problem.\n",
    "\n",
    "### Stack version: attempt #2\n",
    "\n",
    "Here we use two input variables `a`, `b` and a stack for the temp vars. `x` is stored at `stack[0]` and `y` is stored at `stack[1]`."
   ]
  },
  {
   "cell_type": "code",
   "execution_count": 10,
   "id": "0554729a-a078-48fa-9d6e-bbb256c2c000",
   "metadata": {},
   "outputs": [
    {
     "data": {
      "text/html": [
       "<table style=\"background: white\"><tr><td style=\"text-align: left\">stack = Store(Store(K(BitVec(4), 0), 0, a), 1, 0) &and;\n",
       "sp = 2 &and;\n",
       "a &gt; 0 &and;\n",
       "b &gt; 0 &rArr;\n",
       "U0(a, b, stack, sp)</td></tr><tr><td style=\"text-align: left\">x = stack[0] &and;\n",
       "y = stack[1] &and;\n",
       "U0(a, b, stack, sp) &and;\n",
       "x' = x + 1 &and;\n",
       "y' = y + 1 &and;\n",
       "stack'[0] = x' &and;\n",
       "stack'[1] = y' &and;\n",
       "y &lt; b &rArr;\n",
       "U0(a, b, stack', sp)</td></tr><tr><td style=\"text-align: left\">U0(a, b, stack, sp) &and; x = stack[0] &and; y = stack[1] &and; y &ge; b &rArr;\n",
       "x = a + b</td></tr></table>"
      ],
      "text/plain": [
       "<verification_utils.CHCs at 0x107c585d0>"
      ]
     },
     "execution_count": 10,
     "metadata": {},
     "output_type": "execute_result"
    }
   ],
   "source": [
    "x1, y1 = BitVecs(\"x' y'\", BW)\n",
    "stack1 = Array(\"stack'\", BitVecSort(BW), BitVecSort(BW))\n",
    "\n",
    "chcs = CHCs([\n",
    "    Implies(And(stack == mk_bv_array(stack, [a,0]), sp == 2, a > 0, b > 0), U[0](sigma)),\n",
    "    Implies(And(x == stack[0], y == stack[1], U[0](sigma), x1 == x + 1, y1 == y + 1,\n",
    "                stack1[0] == x1, stack1[1] == y1, y < b), U[0](a, b, stack1, sp)),\n",
    "    Implies(And(U[0](a, b, stack, sp), x == stack[0], y == stack[1], y >= b),\n",
    "            x == a + b)\n",
    "])\n",
    "chcs"
   ]
  },
  {
   "cell_type": "code",
   "execution_count": 11,
   "id": "bad7fb81-0948-4908-941b-001b772c99cc",
   "metadata": {},
   "outputs": [
    {
     "name": "stdout",
     "output_type": "stream",
     "text": [
      "CPU times: user 1.59 s, sys: 5.29 ms, total: 1.6 s\n",
      "Wall time: 1.6 s\n"
     ]
    },
    {
     "data": {
      "text/html": [
       "<b>sat</b>"
      ],
      "text/plain": [
       "sat"
      ]
     },
     "execution_count": 11,
     "metadata": {},
     "output_type": "execute_result"
    }
   ],
   "source": [
    "s = chcs.create_solver()\n",
    "#s.set('xform.inline_eager', False)\n",
    "#s.set('xform.inline_linear', False)\n",
    "%time s.check()"
   ]
  },
  {
   "cell_type": "code",
   "execution_count": null,
   "id": "02a397ea-c015-47ac-b142-439d247d8056",
   "metadata": {},
   "outputs": [],
   "source": []
  }
 ],
 "metadata": {
  "kernelspec": {
   "display_name": "Python 3 (ipykernel)",
   "language": "python",
   "name": "python3"
  },
  "language_info": {
   "codemirror_mode": {
    "name": "ipython",
    "version": 3
   },
   "file_extension": ".py",
   "mimetype": "text/x-python",
   "name": "python",
   "nbconvert_exporter": "python",
   "pygments_lexer": "ipython3",
   "version": "3.11.9"
  }
 },
 "nbformat": 4,
 "nbformat_minor": 5
}
