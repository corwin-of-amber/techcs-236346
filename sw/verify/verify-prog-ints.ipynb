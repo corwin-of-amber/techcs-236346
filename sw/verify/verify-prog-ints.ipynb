{
 "cells": [
  {
   "cell_type": "code",
   "execution_count": null,
   "id": "ef58576c-0a46-4f96-b80e-02305974712c",
   "metadata": {},
   "outputs": [],
   "source": [
    "import sys\n",
    "sys.path.append('../../hw/base')  # just for the boilerplate stuff\n",
    "\n",
    "from verification_utils import CHCs, mk_int_array\n",
    "import boilerplate"
   ]
  },
  {
   "cell_type": "code",
   "execution_count": null,
   "id": "b0cf1962-c33e-421a-9a5f-44d6721ff97f",
   "metadata": {},
   "outputs": [],
   "source": [
    "from z3 import *\n",
    "import z3\n",
    "z3.set_param(proof=True)  # this is needed so that we can call `.proof()` later"
   ]
  },
  {
   "cell_type": "markdown",
   "id": "c1379f86-ff7a-4254-82e1-73917db99989",
   "metadata": {},
   "source": [
    "## First example\n",
    "A loop-free program"
   ]
  },
  {
   "cell_type": "code",
   "execution_count": null,
   "id": "0c126719-3bc0-4961-9761-cff27c28e77d",
   "metadata": {},
   "outputs": [],
   "source": [
    "stack = Array('stack', IntSort(), IntSort())\n",
    "sp = Int('sp')\n",
    "state_vars = [stack, sp]\n",
    "\n",
    "a, b = input_vars = Ints('a b')"
   ]
  },
  {
   "cell_type": "code",
   "execution_count": null,
   "id": "e6164d2d-1c47-4108-8791-046db832771b",
   "metadata": {},
   "outputs": [],
   "source": [
    "U = {i: Function(f\"U{i}\", *(v.sort() for v in [*input_vars, *state_vars]), BoolSort())\n",
    "     for i in range(6)}"
   ]
  },
  {
   "cell_type": "code",
   "execution_count": null,
   "id": "bb2dc9b0-39fa-415e-b34e-44859ed4b895",
   "metadata": {},
   "outputs": [],
   "source": [
    "sigma = [*input_vars, *state_vars]\n",
    "\n",
    "\"\"\"\n",
    "{ stack = [a, b] }\n",
    "PUSH 13\n",
    "POP 2; ALU MUL\n",
    "POP 2; ALU ADD\n",
    "POP 1\n",
    "{ ret = a + b * 13 }\n",
    "\"\"\"\n",
    "chcs = CHCs([\n",
    "    #Implies(And(stack[0] == a, stack[1] == b, sp == 2), U[0](sigma)),\n",
    "    Implies(And(stack == mk_int_array([a,b]), sp == 2), U[0](sigma)),\n",
    "    Implies(U[0](sigma), U[1](a, b, Store(stack, sp, 13), sp + 1)),\n",
    "    Implies(U[1](sigma), U[2](a, b, Store(stack, sp - 2, stack[sp - 1] * stack[sp - 2]), sp - 1)),\n",
    "    Implies(U[2](sigma), U[3](a, b, Store(stack, sp - 2, stack[sp - 1] + stack[sp - 2]), sp - 1)),\n",
    "    Implies(U[3](sigma), U[4](a, b, stack, sp - 1)),\n",
    "    Implies(U[4](sigma), stack[sp] == a + b * 13),\n",
    "])\n",
    "chcs"
   ]
  },
  {
   "cell_type": "code",
   "execution_count": null,
   "id": "2b6d10a0-9e98-48ca-b922-d5302fdabebf",
   "metadata": {},
   "outputs": [],
   "source": [
    "s = chcs.create_solver()\n",
    "#s.set('xform.inline_eager', False)\n",
    "#s.set('xform.inline_linear', False)\n",
    "%time s.check()"
   ]
  },
  {
   "cell_type": "code",
   "execution_count": null,
   "id": "fcfbc256-fbc2-43cc-97ec-b3668771171c",
   "metadata": {},
   "outputs": [],
   "source": [
    "s.model()"
   ]
  },
  {
   "cell_type": "markdown",
   "id": "ef2355bb-9351-4752-a02a-45a9843cb19c",
   "metadata": {},
   "source": [
    "## Second Example: A Loop That Computes Addition\n",
    "\n",
    "The very basic: two input variables, two local variables.\n",
    "```python\n",
    "# Input: a, b  s.t. b > 0\n",
    "x = a; y = 0\n",
    "while y < b:\n",
    "  x += 1; y += 1\n",
    "# Output: x = a + b\n",
    "```"
   ]
  },
  {
   "cell_type": "code",
   "execution_count": null,
   "id": "a958bbac-4932-4613-a286-be38ca949c1b",
   "metadata": {},
   "outputs": [],
   "source": [
    "x, y = Ints(\"x y\")\n",
    "\n",
    "Inv = Function(\"inv\", a.sort(), b.sort(), x.sort(), y.sort(), BoolSort())\n",
    "\n",
    "chcs = CHCs([\n",
    "    Implies(And(b > 0), Inv(a, b, a, 0)),\n",
    "    Implies(And(Inv(a, b, x, y), y < b), Inv(a, b, x + 1, y + 1)),\n",
    "    Implies(And(Inv(a, b, x, y), y >= b, Not(x == a + b)), False)\n",
    "])\n",
    "chcs"
   ]
  },
  {
   "cell_type": "code",
   "execution_count": null,
   "id": "ce666db1-6547-4149-afd9-e4b625adb0a3",
   "metadata": {
    "tags": []
   },
   "outputs": [],
   "source": [
    "s = chcs.create_solver()\n",
    "s.check()"
   ]
  },
  {
   "cell_type": "code",
   "execution_count": null,
   "id": "1e839ca8-249b-44e1-8eae-f82c2c537f5a",
   "metadata": {},
   "outputs": [],
   "source": [
    "# tip: this can be useful if you want to write the Horn clauses to a file\n",
    "with open('simple.smt2', 'w') as f:\n",
    "    f.write(f'(set-logic HORN)\\n{s.to_smt2()}')"
   ]
  },
  {
   "cell_type": "markdown",
   "id": "59f7b747-cd43-474f-b6b2-42e511c07740",
   "metadata": {},
   "source": [
    "### Stack version: attempt #1"
   ]
  },
  {
   "cell_type": "code",
   "execution_count": null,
   "id": "1cbe3061-79b1-4be7-8f7e-64b8621ca385",
   "metadata": {},
   "outputs": [],
   "source": [
    "x, y = Ints(\"x y\")\n",
    "Inv = Function(\"inv\", a.sort(), b.sort(), stack.sort(), sp.sort(), BoolSort())\n",
    "\n",
    "chcs = CHCs([\n",
    "    Implies(And(stack == mk_int_array([a,b,a,0]), sp == 4, b > 0), Inv(sigma)),\n",
    "    Implies(And(Inv(a, b, mk_int_array([a, b, x, y]), sp), y < b),\n",
    "            Inv(a, b, mk_int_array([a, b, x + 1, y + 1]), sp)),\n",
    "    Implies(And(Inv(a, b, mk_int_array([a, b, x, y]), sp), y >= b), x == a + b)\n",
    "])\n",
    "    \n",
    "chcs"
   ]
  },
  {
   "cell_type": "code",
   "execution_count": null,
   "id": "418771e3-1c9d-4bcf-ada1-041231c2cbb0",
   "metadata": {},
   "outputs": [],
   "source": [
    "s = chcs.create_solver()\n",
    "#s.set('xform.inline_eager', False)\n",
    "#s.set('xform.inline_linear', False)\n",
    "s.set(timeout=10000)\n",
    "%time s.check()"
   ]
  },
  {
   "cell_type": "markdown",
   "id": "0d08b3a4-19ff-46d4-b1ef-dd17f484b5a8",
   "metadata": {},
   "source": [
    "This did not work. The explicit array creation seems to be too much for Spacer to solve. While it is hard to find the root cause of the divergence, we might wish to explore alternative encodings of the problem.\n",
    "\n",
    "## Stack version: attempt #2\n",
    "\n",
    "Here we use two input variables `a`, `b` and a stack for the temp vars. `x` is stored at `stack[0]` and `y` is stored at `stack[1]`."
   ]
  },
  {
   "cell_type": "code",
   "execution_count": null,
   "id": "cb451eda-a7af-47ec-8eca-a8d5da564d64",
   "metadata": {},
   "outputs": [],
   "source": [
    "Inv = Function('inv', a.sort(), b.sort(), stack.sort(), BoolSort())\n",
    "\n",
    "chcs = CHCs([\n",
    "    Implies(And(b > 0, stack[0] == a, stack[1] == 0), Inv(a, b, stack)),\n",
    "    Implies(And(Inv(a, b, stack), stack[0] == x, stack[1] == y, y < b), Inv(a, b, Store(Store(stack, 0, x + 1), 1, y + 1))),\n",
    "    Implies(And(Inv(a, b, stack), stack[0] == x, stack[1] == y, y >= b), x == a + b)\n",
    "])\n",
    "chcs"
   ]
  },
  {
   "cell_type": "code",
   "execution_count": null,
   "id": "0e818bbb-e5a3-4037-a01b-8e7494ecc063",
   "metadata": {},
   "outputs": [],
   "source": [
    "s = chcs.create_solver()\n",
    "#s.set('xform.inline_eager', False)\n",
    "#s.set('xform.inline_linear', False)\n",
    "(res := s.check())"
   ]
  },
  {
   "cell_type": "code",
   "execution_count": null,
   "id": "ede69cce-f9f5-4926-85e8-d8cd0456aa41",
   "metadata": {},
   "outputs": [],
   "source": [
    "s.model()     if res == sat else None"
   ]
  },
  {
   "cell_type": "code",
   "execution_count": null,
   "id": "e921738c-22d7-4558-afd6-787a1a45d42d",
   "metadata": {},
   "outputs": [],
   "source": [
    "# If the property is invalid, the return value is `unsat`.\n",
    "# In this case, a \"proof\" is generated by the solver and can be used to understand the failure.\n",
    "from verification_utils import HyperResolutionProof\n",
    "HyperResolutionProof(s.proof()).to_roadmap()    if res == unsat else None"
   ]
  },
  {
   "cell_type": "markdown",
   "id": "5ee6ff30-a406-4399-ad05-7dc7234d5d19",
   "metadata": {},
   "source": [
    "Cool. Now let's make it gradually more realistic by expressing our proper stack semantics.\n",
    "\n",
    "## Stack version: using `sp`\n",
    "Very similar to before, but variable offsets are relative to `sp`, like in StaM."
   ]
  },
  {
   "cell_type": "code",
   "execution_count": null,
   "id": "39b001e6-a28c-4202-9034-aebf5adb3114",
   "metadata": {},
   "outputs": [],
   "source": [
    "Inv = Function('inv', a.sort(), b.sort(), stack.sort(), sp.sort(), BoolSort())\n",
    "\n",
    "chcs = CHCs([\n",
    "    Implies(And(b > 0, stack[sp - 2] == a, stack[sp - 1] == 0), Inv(a, b, stack, sp)),\n",
    "    Implies(And(Inv(a, b, stack, sp), stack[sp - 2] == x, stack[sp - 1] == y, y < b),\n",
    "            Inv(a, b, Store(Store(stack, sp - 2, x + 1), sp - 1, y + 1), sp)),\n",
    "    Implies(And(Inv(a, b, stack, sp), stack[sp - 2] == x, stack[sp - 1] == y, y >= b), x == a + b)\n",
    "])\n",
    "chcs"
   ]
  },
  {
   "cell_type": "code",
   "execution_count": null,
   "id": "a985a751-5264-43b0-b081-bcd45146c435",
   "metadata": {},
   "outputs": [],
   "source": [
    "s = chcs.create_solver()\n",
    "(res := s.check())"
   ]
  },
  {
   "cell_type": "code",
   "execution_count": null,
   "id": "75b66dfc-18fb-45e0-b170-39bb11142a92",
   "metadata": {},
   "outputs": [],
   "source": [
    "HyperResolutionProof(s.proof()).to_roadmap()    if res == unsat else s.model()"
   ]
  },
  {
   "cell_type": "markdown",
   "id": "52fd0932-dd3b-4e4a-8e7b-b5f0a849f88b",
   "metadata": {},
   "source": [
    "## Stack version: all in the stack\n",
    "Also similar, but the input arguments `a` and `b` are now also stored on the stack."
   ]
  },
  {
   "cell_type": "code",
   "execution_count": null,
   "id": "3889e2ab-ec96-4fbc-8f2a-bbc7be2a55b7",
   "metadata": {},
   "outputs": [],
   "source": [
    "Inv = Function('inv', stack.sort(), sp.sort(), BoolSort())\n",
    "\n",
    "p = And(stack[sp - 4] == a, stack[sp - 3] == b)\n",
    "\n",
    "chcs = CHCs([\n",
    "    Implies(And(p, b > 0, stack[sp - 2] == a, stack[sp - 1] == 0), Inv(stack, sp)),\n",
    "    Implies(And(p, Inv(stack, sp), stack[sp - 2] == x, stack[sp - 1] == y, y < b),\n",
    "            Inv(Store(Store(stack, sp - 2, x + 1), sp - 1, y + 1), sp)),\n",
    "    Implies(And(p, Inv(stack, sp), stack[sp - 2] == x, stack[sp - 1] == y, y >= b), x == a + b)\n",
    "])\n",
    "chcs"
   ]
  },
  {
   "cell_type": "code",
   "execution_count": null,
   "id": "a6c1dc2b-a452-40e6-b1e6-58be91eeb46f",
   "metadata": {},
   "outputs": [],
   "source": [
    "s = chcs.create_solver()\n",
    "(res := s.check())"
   ]
  },
  {
   "cell_type": "code",
   "execution_count": null,
   "id": "51372969-250a-4b94-8c80-71dbc2ac7da2",
   "metadata": {},
   "outputs": [],
   "source": [
    "HyperResolutionProof(s.proof()).to_roadmap()    if res == unsat else s.model()"
   ]
  },
  {
   "cell_type": "markdown",
   "id": "cf250a67-3fe4-4b26-8067-08036ac9320a",
   "metadata": {},
   "source": [
    "## Stack version: money time; doing it in assembly\n",
    "\n",
    "Now let's write the function's implementation in StASM, and observe the CHCs that encode its behavior. Here we do the translation manually. In your project, you will generate those clauses automatically from the StASM code."
   ]
  },
  {
   "cell_type": "code",
   "execution_count": null,
   "id": "0554729a-a078-48fa-9d6e-bbb256c2c000",
   "metadata": {},
   "outputs": [],
   "source": [
    "\"\"\"\n",
    "{ stack = [a, b] ∧ b > 0 }\n",
    "  DUP 1\n",
    "  PUSH 0\n",
    "loop:\n",
    "  DUP; DUP 2; POP 2; ALU LT; POP 1; JZ exit\n",
    "  DUP 1; PUSH 1; POP 2; ALU ADD\n",
    "  DUP 1; PUSH 1; POP 2; ALU ADD\n",
    "  YANK 2,2\n",
    "  JMP loop\n",
    "exit:\n",
    "  POP 1\n",
    "{ stack = [a, b, a + b] }\n",
    "\"\"\"\n",
    "\n",
    "sigma = [*state_vars]\n",
    "\n",
    "U = {i: Function(f\"U{i}\", *(v.sort() for v in sigma), BoolSort())\n",
    "     for i in range(9)}\n",
    "\n",
    "chcs = CHCs([\n",
    "    # assume { stack = [a, b] ∧ b > 0 }\n",
    "    Implies(stack[sp - 1] > 0, U[0](sigma)),\n",
    "    # DUP 1; PUSH 0\n",
    "    Implies(U[0](sigma), U[1](Store(Store(stack, sp, stack[sp - 2]), sp + 1, 0), sp + 2)),\n",
    "    # DUP; DUP 2\n",
    "    Implies(U[1](sigma), U[2](Store(Store(stack, sp, stack[sp - 1]), sp + 1, stack[sp - 3]), sp + 2)),\n",
    "    # POP 2; ALU LT; POP 1; JZ exit\n",
    "    Implies(And(U[2](sigma), stack[sp - 2] < stack[sp - 1]), U[3](stack, sp - 2)),\n",
    "    Implies(And(U[2](sigma), stack[sp - 2] >= stack[sp - 1]), U[7](stack, sp - 2)),\n",
    "    # DUP 1; PUSH 1; POP 2; ALU ADD\n",
    "    Implies(U[3](sigma), U[4](Store(stack, sp, stack[sp - 2] + 1), sp + 1)),\n",
    "    # DUP 1; PUSH 1; POP 2; ALU ADD\n",
    "    Implies(U[4](sigma), U[5](Store(stack, sp, stack[sp - 2] + 1), sp + 1)),\n",
    "    # YANK 2,2\n",
    "    Implies(U[5](sigma), U[6](Store(Store(stack, sp - 4, stack[sp - 2]), sp - 3, stack[sp - 1]), sp - 2)),\n",
    "    # JMP loop\n",
    "    Implies(U[6](sigma), U[1](sigma)),\n",
    "    # exit:\n",
    "    # POP 1\n",
    "    Implies(U[7](sigma), U[8](stack, sp - 1)),\n",
    "    # assert { stack = [a, b, a + b] }\n",
    "    Implies(U[8](sigma), stack[sp - 1] == stack[sp - 3] + stack[sp - 2])\n",
    "])\n",
    "chcs"
   ]
  },
  {
   "cell_type": "code",
   "execution_count": null,
   "id": "bad7fb81-0948-4908-941b-001b772c99cc",
   "metadata": {},
   "outputs": [],
   "source": [
    "s = chcs.create_solver()\n",
    "#s.set('xform.inline_eager', False)\n",
    "#s.set('xform.inline_linear', False)\n",
    "%time (res := s.check())"
   ]
  },
  {
   "cell_type": "code",
   "execution_count": null,
   "id": "53ecd8c3-fd99-4752-9dbd-88ecb8770583",
   "metadata": {},
   "outputs": [],
   "source": [
    "HyperResolutionProof(s.proof()).to_roadmap()    if res == unsat else s.model()"
   ]
  },
  {
   "cell_type": "markdown",
   "id": "128ed35d-1ab9-4f8d-ae65-b2b7dc470b68",
   "metadata": {},
   "source": [
    "### Exercise\n",
    "Modify some nit in the CHCs for the program above, simulating a buggy program. The result should be `unsat`. Generate the trace with the `HyperResolutionProof` shown above (which is like we did in hardware model checking).\n",
    "Try to uncomment the lines setting the flags `xform.inline_eager` and `xform.inline_linear`, disabling some of Spacer's preprocessing optimizations, in order to get a fuller trace.\n",
    "If you are getting large values for `sp` (_e.g._ 21353), add a constraint somewhere that delimits its range for, say, 0..10."
   ]
  }
 ],
 "metadata": {
  "kernelspec": {
   "display_name": "Python 3 (ipykernel)",
   "language": "python",
   "name": "python3"
  },
  "language_info": {
   "codemirror_mode": {
    "name": "ipython",
    "version": 3
   },
   "file_extension": ".py",
   "mimetype": "text/x-python",
   "name": "python",
   "nbconvert_exporter": "python",
   "pygments_lexer": "ipython3",
   "version": "3.10.11"
  }
 },
 "nbformat": 4,
 "nbformat_minor": 5
}
