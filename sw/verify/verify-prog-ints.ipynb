{
 "cells": [
  {
   "cell_type": "code",
   "execution_count": 1,
   "id": "ef58576c-0a46-4f96-b80e-02305974712c",
   "metadata": {},
   "outputs": [],
   "source": [
    "import sys\n",
    "sys.path.append(\"../../hw/base\")\n",
    "\n",
    "from verification_utils import CHCs, mk_int_array"
   ]
  },
  {
   "cell_type": "code",
   "execution_count": 2,
   "id": "b0cf1962-c33e-421a-9a5f-44d6721ff97f",
   "metadata": {},
   "outputs": [],
   "source": [
    "from z3 import *\n",
    "import z3\n",
    "z3.set_param(proof=True)  # this is needed so that we can call `.proof()` later"
   ]
  },
  {
   "cell_type": "markdown",
   "id": "c1379f86-ff7a-4254-82e1-73917db99989",
   "metadata": {},
   "source": [
    "## First example\n",
    "A loop-free program"
   ]
  },
  {
   "cell_type": "code",
   "execution_count": 3,
   "id": "0c126719-3bc0-4961-9761-cff27c28e77d",
   "metadata": {},
   "outputs": [],
   "source": [
    "stack = Array('stack', IntSort(), IntSort())\n",
    "sp = Int('sp')\n",
    "state_vars = [stack, sp]\n",
    "\n",
    "a, b = input_vars = Ints('a b')"
   ]
  },
  {
   "cell_type": "code",
   "execution_count": 4,
   "id": "e6164d2d-1c47-4108-8791-046db832771b",
   "metadata": {},
   "outputs": [],
   "source": [
    "U = {i: Function(f\"U{i}\", *(v.sort() for v in [*input_vars, *state_vars]), BoolSort())\n",
    "     for i in range(6)}"
   ]
  },
  {
   "cell_type": "code",
   "execution_count": 5,
   "id": "bb2dc9b0-39fa-415e-b34e-44859ed4b895",
   "metadata": {},
   "outputs": [
    {
     "data": {
      "text/html": [
       "<table style=\"background: white\"><tr><td style=\"text-align: left\">stack = Store(Store(K(Int, 0), 0, a), 1, b) &and; sp = 2 &rArr;\n",
       "U0(a, b, stack, sp)</td></tr><tr><td style=\"text-align: left\">U0(a, b, stack, sp) &rArr; U1(a, b, Store(stack, sp, 13), sp + 1)</td></tr><tr><td style=\"text-align: left\">U1(a, b, stack, sp) &rArr;\n",
       "U2(a,\n",
       "   b,\n",
       "   Store(stack, sp - 2, stack[sp - 1]&middot;stack[sp - 2]),\n",
       "   sp - 1)</td></tr><tr><td style=\"text-align: left\">U2(a, b, stack, sp) &rArr;\n",
       "U3(a,\n",
       "   b,\n",
       "   Store(stack, sp - 2, stack[sp - 1] + stack[sp - 2]),\n",
       "   sp - 1)</td></tr><tr><td style=\"text-align: left\">U3(a, b, stack, sp) &rArr; U4(a, b, stack, sp - 1)</td></tr><tr><td style=\"text-align: left\">U4(a, b, stack, sp) &rArr; stack[sp] = a + b&middot;13</td></tr></table>"
      ],
      "text/plain": [
       "<verification_utils.CHCs at 0x10613db50>"
      ]
     },
     "execution_count": 5,
     "metadata": {},
     "output_type": "execute_result"
    }
   ],
   "source": [
    "sigma = [*input_vars, *state_vars]\n",
    "\n",
    "\"\"\"\n",
    "{ stack = [a, b] }\n",
    "PUSH 13\n",
    "POP 2; ALU MUL\n",
    "POP 2; ALU ADD\n",
    "POP 1\n",
    "{ ret = a + b * 13 }\n",
    "\"\"\"\n",
    "chcs = CHCs([\n",
    "    #Implies(And(stack[0] == a, stack[1] == b, sp == 2), U[0](sigma)),\n",
    "    Implies(And(stack == mk_int_array([a,b]), sp == 2), U[0](sigma)),\n",
    "    Implies(U[0](sigma), U[1](a, b, Store(stack, sp, 13), sp + 1)),\n",
    "    Implies(U[1](sigma), U[2](a, b, Store(stack, sp - 2, stack[sp - 1] * stack[sp - 2]), sp - 1)),\n",
    "    Implies(U[2](sigma), U[3](a, b, Store(stack, sp - 2, stack[sp - 1] + stack[sp - 2]), sp - 1)),\n",
    "    Implies(U[3](sigma), U[4](a, b, stack, sp - 1)),\n",
    "    Implies(U[4](sigma), stack[sp] == a + b * 13),\n",
    "])\n",
    "chcs"
   ]
  },
  {
   "cell_type": "code",
   "execution_count": 6,
   "id": "2b6d10a0-9e98-48ca-b922-d5302fdabebf",
   "metadata": {},
   "outputs": [
    {
     "name": "stdout",
     "output_type": "stream",
     "text": [
      "CPU times: user 3.18 ms, sys: 507 µs, total: 3.69 ms\n",
      "Wall time: 3.81 ms\n"
     ]
    },
    {
     "data": {
      "text/html": [
       "<b>sat</b>"
      ],
      "text/plain": [
       "sat"
      ]
     },
     "execution_count": 6,
     "metadata": {},
     "output_type": "execute_result"
    }
   ],
   "source": [
    "s = chcs.create_solver()\n",
    "#s.set('xform.inline_eager', False)\n",
    "#s.set('xform.inline_linear', False)\n",
    "%time s.check()"
   ]
  },
  {
   "cell_type": "code",
   "execution_count": 7,
   "id": "fcfbc256-fbc2-43cc-97ec-b3668771171c",
   "metadata": {},
   "outputs": [
    {
     "data": {
      "text/html": [
       "[U3 = [else &rarr;\n",
       "       &#957;<sub>2</sub> =\n",
       "       Store(Store(Store(K(Int, 0), 2, 13), 1, 13&middot;&#957;<sub>1</sub>),\n",
       "             0,\n",
       "             13&middot;&#957;<sub>1</sub> + &#957;<sub>0</sub>) &and;\n",
       "       &#957;<sub>3</sub> = 1 &or;\n",
       "       &#957;<sub>3</sub> = 1 &and;\n",
       "       &#957;<sub>2</sub> =\n",
       "       Store(Store(Store(K(Int, 0), 2, 13), 1, 13&middot;&#957;<sub>1</sub>),\n",
       "             0,\n",
       "             13&middot;&#957;<sub>1</sub> + &#957;<sub>0</sub>)],\n",
       " U2 = [else &rarr;\n",
       "       &#957;<sub>2</sub> =\n",
       "       Store(Store(Store(K(Int, 0), 0, &#957;<sub>0</sub>), 2, 13), 1, 13&middot;&#957;<sub>1</sub>) &and;\n",
       "       &#957;<sub>3</sub> = 2 &or;\n",
       "       &#957;<sub>3</sub> = 2 &and;\n",
       "       &#957;<sub>2</sub> =\n",
       "       Store(Store(Store(K(Int, 0), 0, &#957;<sub>0</sub>), 2, 13), 1, 13&middot;&#957;<sub>1</sub>)],\n",
       " U1 = [else &rarr;\n",
       "       &#957;<sub>2</sub> = Store(Store(Store(K(Int, 0), 0, &#957;<sub>0</sub>), 1, &#957;<sub>1</sub>), 2, 13) &and;\n",
       "       &#957;<sub>3</sub> = 3 &or;\n",
       "       &#957;<sub>3</sub> = 3 &and;\n",
       "       &#957;<sub>2</sub> = Store(Store(Store(K(Int, 0), 0, &#957;<sub>0</sub>), 1, &#957;<sub>1</sub>), 2, 13)],\n",
       " U0 = [else &rarr; &#957;<sub>2</sub> = Store(Store(K(Int, 0), 0, &#957;<sub>0</sub>), 1, &#957;<sub>1</sub>) &and; &#957;<sub>3</sub> = 2],\n",
       " U4 = [else &rarr;\n",
       "       &#957;<sub>2</sub> =\n",
       "       Store(Store(Store(K(Int, 0), 2, 13), 1, 13&middot;&#957;<sub>1</sub>),\n",
       "             0,\n",
       "             13&middot;&#957;<sub>1</sub> + &#957;<sub>0</sub>) &and;\n",
       "       &#957;<sub>3</sub> = 0 &or;\n",
       "       &#957;<sub>3</sub> = 0 &and;\n",
       "       &#957;<sub>2</sub> =\n",
       "       Store(Store(Store(K(Int, 0), 2, 13), 1, 13&middot;&#957;<sub>1</sub>),\n",
       "             0,\n",
       "             13&middot;&#957;<sub>1</sub> + &#957;<sub>0</sub>)]]"
      ],
      "text/plain": [
       "[U3 = [else ->\n",
       "       Or(And(Var(2) ==\n",
       "              Store(Store(Store(K(Int, 0), 2, 13),\n",
       "                          1,\n",
       "                          13*Var(1)),\n",
       "                    0,\n",
       "                    13*Var(1) + Var(0)),\n",
       "              Var(3) == 1),\n",
       "          And(Var(3) == 1,\n",
       "              Var(2) ==\n",
       "              Store(Store(Store(K(Int, 0), 2, 13),\n",
       "                          1,\n",
       "                          13*Var(1)),\n",
       "                    0,\n",
       "                    13*Var(1) + Var(0))))],\n",
       " U2 = [else ->\n",
       "       Or(And(Var(2) ==\n",
       "              Store(Store(Store(K(Int, 0), 0, Var(0)),\n",
       "                          2,\n",
       "                          13),\n",
       "                    1,\n",
       "                    13*Var(1)),\n",
       "              Var(3) == 2),\n",
       "          And(Var(3) == 2,\n",
       "              Var(2) ==\n",
       "              Store(Store(Store(K(Int, 0), 0, Var(0)),\n",
       "                          2,\n",
       "                          13),\n",
       "                    1,\n",
       "                    13*Var(1))))],\n",
       " U1 = [else ->\n",
       "       Or(And(Var(2) ==\n",
       "              Store(Store(Store(K(Int, 0), 0, Var(0)),\n",
       "                          1,\n",
       "                          Var(1)),\n",
       "                    2,\n",
       "                    13),\n",
       "              Var(3) == 3),\n",
       "          And(Var(3) == 3,\n",
       "              Var(2) ==\n",
       "              Store(Store(Store(K(Int, 0), 0, Var(0)),\n",
       "                          1,\n",
       "                          Var(1)),\n",
       "                    2,\n",
       "                    13)))],\n",
       " U0 = [else ->\n",
       "       And(Var(2) ==\n",
       "           Store(Store(K(Int, 0), 0, Var(0)), 1, Var(1)),\n",
       "           Var(3) == 2)],\n",
       " U4 = [else ->\n",
       "       Or(And(Var(2) ==\n",
       "              Store(Store(Store(K(Int, 0), 2, 13),\n",
       "                          1,\n",
       "                          13*Var(1)),\n",
       "                    0,\n",
       "                    13*Var(1) + Var(0)),\n",
       "              Var(3) == 0),\n",
       "          And(Var(3) == 0,\n",
       "              Var(2) ==\n",
       "              Store(Store(Store(K(Int, 0), 2, 13),\n",
       "                          1,\n",
       "                          13*Var(1)),\n",
       "                    0,\n",
       "                    13*Var(1) + Var(0))))]]"
      ]
     },
     "execution_count": 7,
     "metadata": {},
     "output_type": "execute_result"
    }
   ],
   "source": [
    "s.model()"
   ]
  },
  {
   "cell_type": "markdown",
   "id": "ef2355bb-9351-4752-a02a-45a9843cb19c",
   "metadata": {},
   "source": [
    "## Second Example: A Loop That Computes Addition\n",
    "\n",
    "The very basic: two input variables, two local variables."
   ]
  },
  {
   "cell_type": "code",
   "execution_count": 8,
   "id": "a958bbac-4932-4613-a286-be38ca949c1b",
   "metadata": {},
   "outputs": [
    {
     "data": {
      "text/html": [
       "<table style=\"background: white\"><tr><td style=\"text-align: left\">b &gt; 0 &rArr; inv(a, b, a, 0)</td></tr><tr><td style=\"text-align: left\">inv(a, b, x, y) &and; y &lt; b &rArr; inv(a, b, x + 1, y + 1)</td></tr><tr><td style=\"text-align: left\">inv(a, b, x, y) &and; y &ge; b &and; &not;(x = a + b) &rArr; False</td></tr></table>"
      ],
      "text/plain": [
       "<verification_utils.CHCs at 0x105e1f9d0>"
      ]
     },
     "execution_count": 8,
     "metadata": {},
     "output_type": "execute_result"
    }
   ],
   "source": [
    "x, y = Ints(\"x y\")\n",
    "\n",
    "Inv = Function(\"inv\", a.sort(), b.sort(), x.sort(), y.sort(), BoolSort())\n",
    "\n",
    "chcs = CHCs([\n",
    "    Implies(And(b > 0), Inv(a, b, a, 0)),\n",
    "    Implies(And(Inv(a, b, x, y), y < b), Inv(a, b, x + 1, y + 1)),\n",
    "    Implies(And(Inv(a, b, x, y), y >= b, Not(x == a + b)), False)\n",
    "])\n",
    "chcs"
   ]
  },
  {
   "cell_type": "code",
   "execution_count": 9,
   "id": "ce666db1-6547-4149-afd9-e4b625adb0a3",
   "metadata": {
    "tags": []
   },
   "outputs": [
    {
     "data": {
      "text/html": [
       "<b>sat</b>"
      ],
      "text/plain": [
       "sat"
      ]
     },
     "execution_count": 9,
     "metadata": {},
     "output_type": "execute_result"
    }
   ],
   "source": [
    "s = chcs.create_solver()\n",
    "s.check()"
   ]
  },
  {
   "cell_type": "code",
   "execution_count": 10,
   "id": "1e839ca8-249b-44e1-8eae-f82c2c537f5a",
   "metadata": {},
   "outputs": [],
   "source": [
    "# this can be useful if you want to write the Horn clauses to a file\n",
    "with open('simple.smt2', 'w') as f:\n",
    "    f.write(f'(set-logic HORN)\\n{s.to_smt2()}')"
   ]
  },
  {
   "cell_type": "markdown",
   "id": "59f7b747-cd43-474f-b6b2-42e511c07740",
   "metadata": {},
   "source": [
    "### Stack version: attempt #1"
   ]
  },
  {
   "cell_type": "code",
   "execution_count": 11,
   "id": "1cbe3061-79b1-4be7-8f7e-64b8621ca385",
   "metadata": {},
   "outputs": [
    {
     "data": {
      "text/html": [
       "<table style=\"background: white\"><tr><td style=\"text-align: left\">stack =\n",
       "Store(Store(Store(Store(K(Int, 0), 0, a), 1, b), 2, a),\n",
       "      3,\n",
       "      0) &and;\n",
       "sp = 4 &and;\n",
       "b &gt; 0 &rArr;\n",
       "inv(a, b, stack, sp)</td></tr><tr><td style=\"text-align: left\">inv(a,\n",
       "    b,\n",
       "    Store(Store(Store(Store(K(Int, 0), 0, a), 1, b), 2, x),\n",
       "          3,\n",
       "          y),\n",
       "    sp) &and;\n",
       "y &lt; b &rArr;\n",
       "inv(a,\n",
       "    b,\n",
       "    Store(Store(Store(Store(K(Int, 0), 0, a), 1, b),\n",
       "                2,\n",
       "                x + 1),\n",
       "          3,\n",
       "          y + 1),\n",
       "    sp)</td></tr><tr><td style=\"text-align: left\">inv(a,\n",
       "    b,\n",
       "    Store(Store(Store(Store(K(Int, 0), 0, a), 1, b), 2, x),\n",
       "          3,\n",
       "          y),\n",
       "    sp) &and;\n",
       "y &ge; b &rArr;\n",
       "x = a + b</td></tr></table>"
      ],
      "text/plain": [
       "<verification_utils.CHCs at 0x106067b90>"
      ]
     },
     "execution_count": 11,
     "metadata": {},
     "output_type": "execute_result"
    }
   ],
   "source": [
    "x, y = Ints(\"x y\")\n",
    "Inv = Function(\"inv\", a.sort(), b.sort(), stack.sort(), sp.sort(), BoolSort())\n",
    "\n",
    "chcs = CHCs([\n",
    "    Implies(And(stack == mk_int_array([a,b,a,0]), sp == 4, b > 0), Inv(sigma)),\n",
    "    Implies(And(Inv(a, b, mk_int_array([a, b, x, y]), sp), y < b),\n",
    "            Inv(a, b, mk_int_array([a, b, x + 1, y + 1]), sp)),\n",
    "    Implies(And(Inv(a, b, mk_int_array([a, b, x, y]), sp), y >= b), x == a + b)\n",
    "])\n",
    "    \n",
    "chcs"
   ]
  },
  {
   "cell_type": "code",
   "execution_count": 12,
   "id": "418771e3-1c9d-4bcf-ada1-041231c2cbb0",
   "metadata": {},
   "outputs": [
    {
     "name": "stdout",
     "output_type": "stream",
     "text": [
      "CPU times: user 9.93 s, sys: 25.6 ms, total: 9.96 s\n",
      "Wall time: 10 s\n"
     ]
    },
    {
     "data": {
      "text/html": [
       "<b>unknown</b>"
      ],
      "text/plain": [
       "unknown"
      ]
     },
     "execution_count": 12,
     "metadata": {},
     "output_type": "execute_result"
    }
   ],
   "source": [
    "s = chcs.create_solver()\n",
    "#s.set('xform.inline_eager', False)\n",
    "#s.set('xform.inline_linear', False)\n",
    "s.set(timeout=10000)\n",
    "%time s.check()"
   ]
  },
  {
   "cell_type": "markdown",
   "id": "0d08b3a4-19ff-46d4-b1ef-dd17f484b5a8",
   "metadata": {},
   "source": [
    "This did not work. The explicit array creation seems to be too much for Spacer to solve. While it is hard to find the root cause of the divergence, we might wish to explore alternative encodings of the problem.\n",
    "\n",
    "### Stack version: attempt #2\n",
    "\n",
    "Here we use two input variables `a`, `b` and a stack for the temp vars. `x` is stored at `stack[0]` and `y` is stored at `stack[1]`."
   ]
  },
  {
   "cell_type": "code",
   "execution_count": 13,
   "id": "cb451eda-a7af-47ec-8eca-a8d5da564d64",
   "metadata": {},
   "outputs": [
    {
     "data": {
      "text/html": [
       "<table style=\"background: white\"><tr><td style=\"text-align: left\">b &gt; 0 &and; stack[0] = a &and; stack[1] = 0 &rArr; inv(a, b, stack)</td></tr><tr><td style=\"text-align: left\">inv(a, b, stack) &and; stack[0] = x &and; stack[1] = y &and; y &lt; b &rArr;\n",
       "inv(a, b, Store(Store(stack, 0, x + 1), 1, y + 1))</td></tr><tr><td style=\"text-align: left\">inv(a, b, stack) &and; stack[0] = x &and; stack[1] = y &and; y &ge; b &rArr;\n",
       "x = a + b</td></tr></table>"
      ],
      "text/plain": [
       "<verification_utils.CHCs at 0x105e6f9d0>"
      ]
     },
     "execution_count": 13,
     "metadata": {},
     "output_type": "execute_result"
    }
   ],
   "source": [
    "Inv = Function('inv', a.sort(), b.sort(), stack.sort(), BoolSort())\n",
    "\n",
    "chcs = CHCs([\n",
    "    Implies(And(b > 0, stack[0] == a, stack[1] == 0), Inv(a, b, stack)),\n",
    "    Implies(And(Inv(a, b, stack), stack[0] == x, stack[1] == y, y < b), Inv(a, b, Store(Store(stack, 0, x + 1), 1, y + 1))),\n",
    "    Implies(And(Inv(a, b, stack), stack[0] == x, stack[1] == y, y >= b), x == a + b)\n",
    "])\n",
    "chcs"
   ]
  },
  {
   "cell_type": "code",
   "execution_count": 14,
   "id": "0e818bbb-e5a3-4037-a01b-8e7494ecc063",
   "metadata": {},
   "outputs": [
    {
     "data": {
      "text/html": [
       "<b>sat</b>"
      ],
      "text/plain": [
       "sat"
      ]
     },
     "execution_count": 14,
     "metadata": {},
     "output_type": "execute_result"
    }
   ],
   "source": [
    "s = chcs.create_solver()\n",
    "#s.set('xform.inline_eager', False)\n",
    "#s.set('xform.inline_linear', False)\n",
    "(res := s.check())"
   ]
  },
  {
   "cell_type": "code",
   "execution_count": 15,
   "id": "e921738c-22d7-4558-afd6-787a1a45d42d",
   "metadata": {},
   "outputs": [
    {
     "data": {
      "text/html": [
       "[inv = [else &rarr;\n",
       "        &not;(&#957;<sub>2</sub>[0] + -1&middot;&#957;<sub>0</sub> + -1&middot;&#957;<sub>2</sub>[1] &le; -1) &and;\n",
       "        &not;(&#957;<sub>2</sub>[0] + -1&middot;&#957;<sub>0</sub> + -1&middot;&#957;<sub>2</sub>[1] &ge; 1) &and;\n",
       "        &not;(&#957;<sub>1</sub> + -1&middot;&#957;<sub>2</sub>[0] + &#957;<sub>0</sub> &le; -1)]]"
      ],
      "text/plain": [
       "[inv = [else ->\n",
       "        And(Not(Var(2)[0] + -1*Var(0) + -1*Var(2)[1] <= -1),\n",
       "            Not(Var(2)[0] + -1*Var(0) + -1*Var(2)[1] >= 1),\n",
       "            Not(Var(1) + -1*Var(2)[0] + Var(0) <= -1))]]"
      ]
     },
     "execution_count": 15,
     "metadata": {},
     "output_type": "execute_result"
    }
   ],
   "source": [
    "from verification_utils import HyperResolutionProof\n",
    "HyperResolutionProof(s.proof()).to_roadmap()    if res == unsat else s.model()"
   ]
  },
  {
   "cell_type": "markdown",
   "id": "5ee6ff30-a406-4399-ad05-7dc7234d5d19",
   "metadata": {},
   "source": [
    "Cool. Now let's make it gradually more realistic by expressing our proper stack semantics.\n",
    "\n",
    "### Stack version: using `sp`\n",
    "Very similar to before, but variable offsets are relative to `sp`, like in StaM."
   ]
  },
  {
   "cell_type": "code",
   "execution_count": 16,
   "id": "39b001e6-a28c-4202-9034-aebf5adb3114",
   "metadata": {},
   "outputs": [
    {
     "data": {
      "text/html": [
       "<table style=\"background: white\"><tr><td style=\"text-align: left\">b &gt; 0 &and; stack[sp - 2] = a &and; stack[sp - 1] = 0 &rArr;\n",
       "inv(a, b, stack, sp)</td></tr><tr><td style=\"text-align: left\">inv(a, b, stack, sp) &and;\n",
       "stack[sp - 2] = x &and;\n",
       "stack[sp - 1] = y &and;\n",
       "y &lt; b &rArr;\n",
       "inv(a,\n",
       "    b,\n",
       "    Store(Store(stack, sp - 2, x + 1), sp - 1, y + 1),\n",
       "    sp)</td></tr><tr><td style=\"text-align: left\">inv(a, b, stack, sp) &and;\n",
       "stack[sp - 2] = x &and;\n",
       "stack[sp - 1] = y &and;\n",
       "y &ge; b &rArr;\n",
       "x = a + b</td></tr></table>"
      ],
      "text/plain": [
       "<verification_utils.CHCs at 0x106144bd0>"
      ]
     },
     "execution_count": 16,
     "metadata": {},
     "output_type": "execute_result"
    }
   ],
   "source": [
    "Inv = Function('inv', a.sort(), b.sort(), stack.sort(), sp.sort(), BoolSort())\n",
    "\n",
    "chcs = CHCs([\n",
    "    Implies(And(b > 0, stack[sp - 2] == a, stack[sp - 1] == 0), Inv(a, b, stack, sp)),\n",
    "    Implies(And(Inv(a, b, stack, sp), stack[sp - 2] == x, stack[sp - 1] == y, y < b),\n",
    "            Inv(a, b, Store(Store(stack, sp - 2, x + 1), sp - 1, y + 1), sp)),\n",
    "    Implies(And(Inv(a, b, stack, sp), stack[sp - 2] == x, stack[sp - 1] == y, y >= b), x == a + b)\n",
    "])\n",
    "chcs"
   ]
  },
  {
   "cell_type": "code",
   "execution_count": 17,
   "id": "a985a751-5264-43b0-b081-bcd45146c435",
   "metadata": {},
   "outputs": [
    {
     "data": {
      "text/html": [
       "<b>sat</b>"
      ],
      "text/plain": [
       "sat"
      ]
     },
     "execution_count": 17,
     "metadata": {},
     "output_type": "execute_result"
    }
   ],
   "source": [
    "s = chcs.create_solver()\n",
    "(res := s.check())"
   ]
  },
  {
   "cell_type": "code",
   "execution_count": 18,
   "id": "75b66dfc-18fb-45e0-b170-39bb11142a92",
   "metadata": {},
   "outputs": [],
   "source": [
    "HyperResolutionProof(s.proof()).to_roadmap()    if res == unsat else None"
   ]
  },
  {
   "cell_type": "markdown",
   "id": "52fd0932-dd3b-4e4a-8e7b-b5f0a849f88b",
   "metadata": {},
   "source": [
    "## Stack version: all in the stack\n",
    "Also similar, but the input arguments `a` and `b` are now also stored on the stack."
   ]
  },
  {
   "cell_type": "code",
   "execution_count": 19,
   "id": "3889e2ab-ec96-4fbc-8f2a-bbc7be2a55b7",
   "metadata": {},
   "outputs": [
    {
     "data": {
      "text/html": [
       "<table style=\"background: white\"><tr><td style=\"text-align: left\">stack[sp - 4] = a &and;\n",
       "stack[sp - 3] = b &and;\n",
       "b &gt; 0 &and;\n",
       "stack[sp - 2] = a &and;\n",
       "stack[sp - 1] = 0 &rArr;\n",
       "inv(stack, sp)</td></tr><tr><td style=\"text-align: left\">stack[sp - 4] = a &and;\n",
       "stack[sp - 3] = b &and;\n",
       "inv(stack, sp) &and;\n",
       "stack[sp - 2] = x &and;\n",
       "stack[sp - 1] = y &and;\n",
       "y &lt; b &rArr;\n",
       "inv(Store(Store(stack, sp - 2, x + 1), sp - 1, y + 1), sp)</td></tr><tr><td style=\"text-align: left\">stack[sp - 4] = a &and;\n",
       "stack[sp - 3] = b &and;\n",
       "inv(stack, sp) &and;\n",
       "stack[sp - 2] = x &and;\n",
       "stack[sp - 1] = y &and;\n",
       "y &ge; b &rArr;\n",
       "x = a + b</td></tr></table>"
      ],
      "text/plain": [
       "<verification_utils.CHCs at 0x106145550>"
      ]
     },
     "execution_count": 19,
     "metadata": {},
     "output_type": "execute_result"
    }
   ],
   "source": [
    "Inv = Function('inv', stack.sort(), sp.sort(), BoolSort())\n",
    "\n",
    "p = And(stack[sp - 4] == a, stack[sp - 3] == b)\n",
    "\n",
    "chcs = CHCs([\n",
    "    Implies(And(p, b > 0, stack[sp - 2] == a, stack[sp - 1] == 0), Inv(stack, sp)),\n",
    "    Implies(And(p, Inv(stack, sp), stack[sp - 2] == x, stack[sp - 1] == y, y < b),\n",
    "            Inv(Store(Store(stack, sp - 2, x + 1), sp - 1, y + 1), sp)),\n",
    "    Implies(And(p, Inv(stack, sp), stack[sp - 2] == x, stack[sp - 1] == y, y >= b), x == a + b)\n",
    "])\n",
    "chcs"
   ]
  },
  {
   "cell_type": "code",
   "execution_count": 20,
   "id": "a6c1dc2b-a452-40e6-b1e6-58be91eeb46f",
   "metadata": {},
   "outputs": [
    {
     "data": {
      "text/html": [
       "<b>sat</b>"
      ],
      "text/plain": [
       "sat"
      ]
     },
     "execution_count": 20,
     "metadata": {},
     "output_type": "execute_result"
    }
   ],
   "source": [
    "s = chcs.create_solver()\n",
    "(res := s.check())"
   ]
  },
  {
   "cell_type": "markdown",
   "id": "cf250a67-3fe4-4b26-8067-08036ac9320a",
   "metadata": {},
   "source": [
    "## Stack version: money time; doing it in assembly\n",
    "\n",
    "Now let's write the function's implementation in StASM, and observe the CHCs that encode its behavior. Here we do the translation manually. In your project, you will generate those clauses automatically from the StASM code."
   ]
  },
  {
   "cell_type": "code",
   "execution_count": 21,
   "id": "0554729a-a078-48fa-9d6e-bbb256c2c000",
   "metadata": {},
   "outputs": [
    {
     "data": {
      "text/html": [
       "<table style=\"background: white\"><tr><td style=\"text-align: left\">stack[sp - 1] &gt; 0 &rArr; U0(stack, sp)</td></tr><tr><td style=\"text-align: left\">U0(stack, sp) &rArr;\n",
       "U1(Store(Store(stack, sp, stack[sp - 2]), sp + 1, 0),\n",
       "   sp + 2)</td></tr><tr><td style=\"text-align: left\">U1(stack, sp) &rArr;\n",
       "U2(Store(Store(stack, sp, stack[sp - 1]),\n",
       "         sp + 1,\n",
       "         stack[sp - 3]),\n",
       "   sp + 2)</td></tr><tr><td style=\"text-align: left\">U2(stack, sp) &and; stack[sp - 2] &lt; stack[sp - 1] &rArr;\n",
       "U3(stack, sp - 2)</td></tr><tr><td style=\"text-align: left\">U2(stack, sp) &and; stack[sp - 2] &ge; stack[sp - 1] &rArr;\n",
       "U7(stack, sp - 2)</td></tr><tr><td style=\"text-align: left\">U3(stack, sp) &rArr;\n",
       "U4(Store(stack, sp, stack[sp - 2] + 1), sp + 1)</td></tr><tr><td style=\"text-align: left\">U4(stack, sp) &rArr;\n",
       "U5(Store(stack, sp, stack[sp - 2] + 1), sp + 1)</td></tr><tr><td style=\"text-align: left\">U5(stack, sp) &rArr;\n",
       "U6(Store(Store(stack, sp - 4, stack[sp - 2]),\n",
       "         sp - 3,\n",
       "         stack[sp - 1]),\n",
       "   sp - 2)</td></tr><tr><td style=\"text-align: left\">U6(stack, sp) &rArr; U1(stack, sp)</td></tr><tr><td style=\"text-align: left\">U7(stack, sp) &rArr; U8(stack, sp - 1)</td></tr><tr><td style=\"text-align: left\">U8(stack, sp) &rArr;\n",
       "stack[sp - 1] = stack[sp - 3] + stack[sp - 2]</td></tr></table>"
      ],
      "text/plain": [
       "<verification_utils.CHCs at 0x105e43cd0>"
      ]
     },
     "execution_count": 21,
     "metadata": {},
     "output_type": "execute_result"
    }
   ],
   "source": [
    "\"\"\"\n",
    "{ stack = [a, b] ∧ b > 0 }\n",
    "  DUP 1\n",
    "  PUSH 0\n",
    "loop:\n",
    "  DUP; DUP 2; POP 2; ALU LT; POP 1; JZ exit\n",
    "  DUP 1; PUSH 1; POP 2; ALU ADD\n",
    "  DUP 1; PUSH 1; POP 2; ALU ADD\n",
    "  YANK 2,2\n",
    "  JMP loop\n",
    "exit:\n",
    "  POP 1\n",
    "{ stack = [a, b, a + b] }\n",
    "\"\"\"\n",
    "\n",
    "sigma = [*state_vars]\n",
    "\n",
    "U = {i: Function(f\"U{i}\", *(v.sort() for v in sigma), BoolSort())\n",
    "     for i in range(9)}\n",
    "\n",
    "chcs = CHCs([\n",
    "    # assume { stack = [a, b] ∧ b > 0 }\n",
    "    Implies(stack[sp - 1] > 0, U[0](sigma)),\n",
    "    # DUP 1; PUSH 0\n",
    "    Implies(U[0](sigma), U[1](Store(Store(stack, sp, stack[sp - 2]), sp + 1, 0), sp + 2)),\n",
    "    # DUP; DUP 2\n",
    "    Implies(U[1](sigma), U[2](Store(Store(stack, sp, stack[sp - 1]), sp + 1, stack[sp - 3]), sp + 2)),\n",
    "    # POP 2; ALU LT; POP 1; JZ exit\n",
    "    Implies(And(U[2](sigma), stack[sp - 2] < stack[sp - 1]), U[3](stack, sp - 2)),\n",
    "    Implies(And(U[2](sigma), stack[sp - 2] >= stack[sp - 1]), U[7](stack, sp - 2)),\n",
    "    # DUP 1; PUSH 1; POP 2; ALU ADD\n",
    "    Implies(U[3](sigma), U[4](Store(stack, sp, stack[sp - 2] + 1), sp + 1)),\n",
    "    # DUP 1; PUSH 1; POP 2; ALU ADD\n",
    "    Implies(U[4](sigma), U[5](Store(stack, sp, stack[sp - 2] + 1), sp + 1)),\n",
    "    # YANK 2,2\n",
    "    Implies(U[5](sigma), U[6](Store(Store(stack, sp - 4, stack[sp - 2]), sp - 3, stack[sp - 1]), sp - 2)),\n",
    "    # JMP loop\n",
    "    Implies(U[6](sigma), U[1](sigma)),\n",
    "    # exit:\n",
    "    # POP 1\n",
    "    Implies(U[7](sigma), U[8](stack, sp - 1)),\n",
    "    # assert { stack = [a, b, a + b] }\n",
    "    Implies(U[8](sigma), stack[sp - 1] == stack[sp - 3] + stack[sp - 2])\n",
    "])\n",
    "chcs"
   ]
  },
  {
   "cell_type": "code",
   "execution_count": 22,
   "id": "bad7fb81-0948-4908-941b-001b772c99cc",
   "metadata": {},
   "outputs": [
    {
     "name": "stdout",
     "output_type": "stream",
     "text": [
      "CPU times: user 58.6 ms, sys: 5.54 ms, total: 64.2 ms\n",
      "Wall time: 64.2 ms\n"
     ]
    },
    {
     "data": {
      "text/html": [
       "<b>sat</b>"
      ],
      "text/plain": [
       "sat"
      ]
     },
     "execution_count": 22,
     "metadata": {},
     "output_type": "execute_result"
    }
   ],
   "source": [
    "s = chcs.create_solver()\n",
    "s.set('fp.spacer.global', True)    # *THIS IS REQUIRED*\n",
    "#s.set('xform.inline_eager', False)\n",
    "#s.set('xform.inline_linear', False)\n",
    "%time (res := s.check())"
   ]
  },
  {
   "cell_type": "code",
   "execution_count": 23,
   "id": "53ecd8c3-fd99-4752-9dbd-88ecb8770583",
   "metadata": {},
   "outputs": [
    {
     "data": {
      "text/html": [
       "[U1 = [else &rarr;\n",
       "       (&exist;k!1, k!0 :\n",
       "         &not;(k!1[-1 + k!0] &le; 0) &and;\n",
       "         &#957;<sub>2</sub> =\n",
       "         Store(Store(k!1, k!0, k!1[-2 + k!0]), 1 + k!0, 0) &and;\n",
       "         &#957;<sub>3</sub> = 2 + k!0) &or;\n",
       "       (&exist;k!3, k!2 :\n",
       "         &not;(k!3[-3 + k!2] + -1&middot;k!3[-4 + k!2] + k!3[-6 + k!2] &ge;\n",
       "           1) &and;\n",
       "         &not;(k!3[-3 + k!2] + -1&middot;k!3[-4 + k!2] + k!3[-6 + k!2] &le;\n",
       "           -1) &and;\n",
       "         (&not;(k!3[-2 + k!2] + -1&middot;k!3[-1 + k!2] &le; -1) &or;\n",
       "          &not;(k!3[-5 + k!2] + -1&middot;k!3[-4 + k!2] + k!3[-6 + k!2] &le;\n",
       "            0)) &and;\n",
       "         &not;(k!3[-5 + k!2] + -1&middot;k!3[-4 + k!2] + k!3[-6 + k!2] &le;\n",
       "           -1) &and;\n",
       "         &not;(k!3[-5 + k!2] +\n",
       "           -1&middot;k!3[-4 + k!2] +\n",
       "           k!3[-2 + k!2] +\n",
       "           -1&middot;k!3[-1 + k!2] +\n",
       "           k!3[-6 + k!2] &ge;\n",
       "           1) &and;\n",
       "         &#957;<sub>2</sub> =\n",
       "         Store(Store(Store(Store(k!3,\n",
       "                                 -2 + k!2,\n",
       "                                 1 + k!3[-4 + k!2]),\n",
       "                           -1 + k!2,\n",
       "                           1 +\n",
       "                           Store(k!3,\n",
       "                                 -2 + k!2,\n",
       "                                 1 + k!3[-4 + k!2])[-3 + k!2]),\n",
       "                     -4 + k!2,\n",
       "                     Store(Store(k!3,\n",
       "                                 -2 + k!2,\n",
       "                                 1 + k!3[-4 + k!2]),\n",
       "                           -1 + k!2,\n",
       "                           1 +\n",
       "                           Store(k!3,\n",
       "                                 -2 + k!2,\n",
       "                                 1 + k!3[-4 + k!2])[-3 + k!2])[-2 +\n",
       "                       k!2]),\n",
       "               -3 + k!2,\n",
       "               1 +\n",
       "               Store(k!3, -2 + k!2, 1 + k!3[-4 + k!2])[-3 +\n",
       "                 k!2]) &and;\n",
       "         &not;(k!3[-1 + k!2] &le; k!3[-2 + k!2]) &and;\n",
       "         &#957;<sub>3</sub> = -2 + k!2) &or;\n",
       "       (&exist;k!2 :\n",
       "         &not;(k!2[-3 + &#957;<sub>2</sub>] &le; 0) &and;\n",
       "         &#957;<sub>1</sub> =\n",
       "         Store(Store(k!2, -2 + &#957;<sub>2</sub>, k!2[-4 + &#957;<sub>2</sub>]), -1 + &#957;<sub>2</sub>, 0))],\n",
       " U3 = [else &rarr;\n",
       "       &exist;k!0 :\n",
       "        &not;(&#957;<sub>1</sub>[-3 + k!0] + -1&middot;&#957;<sub>1</sub>[-4 + k!0] + &#957;<sub>1</sub>[-6 + k!0] &ge; 1) &and;\n",
       "        &not;(&#957;<sub>1</sub>[-3 + k!0] + -1&middot;&#957;<sub>1</sub>[-4 + k!0] + &#957;<sub>1</sub>[-6 + k!0] &le; -1) &and;\n",
       "        (&not;(&#957;<sub>1</sub>[-2 + k!0] + -1&middot;&#957;<sub>1</sub>[-1 + k!0] &le; -1) &or;\n",
       "         &not;(&#957;<sub>1</sub>[-5 + k!0] + -1&middot;&#957;<sub>1</sub>[-4 + k!0] + &#957;<sub>1</sub>[-6 + k!0] &le; 0)) &and;\n",
       "        &not;(&#957;<sub>1</sub>[-5 + k!0] + -1&middot;&#957;<sub>1</sub>[-4 + k!0] + &#957;<sub>1</sub>[-6 + k!0] &le; -1) &and;\n",
       "        &not;(&#957;<sub>1</sub>[-5 + k!0] +\n",
       "          -1&middot;&#957;<sub>1</sub>[-4 + k!0] +\n",
       "          &#957;<sub>1</sub>[-2 + k!0] +\n",
       "          -1&middot;&#957;<sub>1</sub>[-1 + k!0] +\n",
       "          &#957;<sub>1</sub>[-6 + k!0] &ge;\n",
       "          1) &and;\n",
       "        &not;(&#957;<sub>1</sub>[-1 + k!0] &le; &#957;<sub>1</sub>[-2 + k!0]) &and;\n",
       "        &#957;<sub>2</sub> = -2 + k!0],\n",
       " U5 = [else &rarr;\n",
       "       (&exist;k!2 :\n",
       "         &not;(k!2[-3 + &#957;<sub>2</sub>] + -1&middot;k!2[-4 + &#957;<sub>2</sub>] + k!2[-6 + &#957;<sub>2</sub>] &ge; 1) &and;\n",
       "         &not;(k!2[-3 + &#957;<sub>2</sub>] + -1&middot;k!2[-4 + &#957;<sub>2</sub>] + k!2[-6 + &#957;<sub>2</sub>] &le; -1) &and;\n",
       "         (&not;(k!2[-2 + &#957;<sub>2</sub>] + -1&middot;k!2[-1 + &#957;<sub>2</sub>] &le; -1) &or;\n",
       "          &not;(k!2[-5 + &#957;<sub>2</sub>] + -1&middot;k!2[-4 + &#957;<sub>2</sub>] + k!2[-6 + &#957;<sub>2</sub>] &le; 0)) &and;\n",
       "         &not;(k!2[-5 + &#957;<sub>2</sub>] + -1&middot;k!2[-4 + &#957;<sub>2</sub>] + k!2[-6 + &#957;<sub>2</sub>] &le; -1) &and;\n",
       "         &not;(k!2[-5 + &#957;<sub>2</sub>] +\n",
       "           -1&middot;k!2[-4 + &#957;<sub>2</sub>] +\n",
       "           k!2[-2 + &#957;<sub>2</sub>] +\n",
       "           -1&middot;k!2[-1 + &#957;<sub>2</sub>] +\n",
       "           k!2[-6 + &#957;<sub>2</sub>] &ge;\n",
       "           1) &and;\n",
       "         &not;(k!2[-1 + &#957;<sub>2</sub>] &le; k!2[-2 + &#957;<sub>2</sub>]) &and;\n",
       "         &#957;<sub>1</sub> =\n",
       "         Store(Store(k!2, -2 + &#957;<sub>2</sub>, 1 + k!2[-4 + &#957;<sub>2</sub>]),\n",
       "               -1 + &#957;<sub>2</sub>,\n",
       "               1 +\n",
       "               Store(k!2, -2 + &#957;<sub>2</sub>, 1 + k!2[-4 + &#957;<sub>2</sub>])[-3 + &#957;<sub>2</sub>])) &or;\n",
       "       (&exist;k!1, k!0 :\n",
       "         (&exist;k!3, k!2 :\n",
       "           &not;(k!3[-3 + k!2] +\n",
       "             -1&middot;k!3[-4 + k!2] +\n",
       "             k!3[-6 + k!2] &ge;\n",
       "             1) &and;\n",
       "           &not;(k!3[-3 + k!2] +\n",
       "             -1&middot;k!3[-4 + k!2] +\n",
       "             k!3[-6 + k!2] &le;\n",
       "             -1) &and;\n",
       "           (&not;(k!3[-2 + k!2] + -1&middot;k!3[-1 + k!2] &le; -1) &or;\n",
       "            &not;(k!3[-5 + k!2] +\n",
       "              -1&middot;k!3[-4 + k!2] +\n",
       "              k!3[-6 + k!2] &le;\n",
       "              0)) &and;\n",
       "           &not;(k!3[-5 + k!2] +\n",
       "             -1&middot;k!3[-4 + k!2] +\n",
       "             k!3[-6 + k!2] &le;\n",
       "             -1) &and;\n",
       "           &not;(k!3[-5 + k!2] +\n",
       "             -1&middot;k!3[-4 + k!2] +\n",
       "             k!3[-2 + k!2] +\n",
       "             -1&middot;k!3[-1 + k!2] +\n",
       "             k!3[-6 + k!2] &ge;\n",
       "             1) &and;\n",
       "           k!1 = Store(k!3, -2 + k!2, 1 + k!3[-4 + k!2]) &and;\n",
       "           &not;(k!3[-1 + k!2] &le; k!3[-2 + k!2]) &and;\n",
       "           k!0 = -1 + k!2) &and;\n",
       "         &#957;<sub>2</sub> = Store(k!1, k!0, 1 + k!1[-2 + k!0]) &and;\n",
       "         &#957;<sub>3</sub> = 1 + k!0)],\n",
       " U8 = [else &rarr;\n",
       "       (&exist;k!0 :\n",
       "         (&exist;k!0 :\n",
       "           &not;(&#957;<sub>2</sub>[-3 + k!0] + -1&middot;&#957;<sub>2</sub>[-4 + k!0] + &#957;<sub>2</sub>[-6 + k!0] &ge; 1) &and;\n",
       "           &not;(&#957;<sub>2</sub>[-3 + k!0] + -1&middot;&#957;<sub>2</sub>[-4 + k!0] + &#957;<sub>2</sub>[-6 + k!0] &le; -1) &and;\n",
       "           (&not;(&#957;<sub>2</sub>[-2 + k!0] + -1&middot;&#957;<sub>2</sub>[-1 + k!0] &le; -1) &or;\n",
       "            &not;(&#957;<sub>2</sub>[-5 + k!0] + -1&middot;&#957;<sub>2</sub>[-4 + k!0] + &#957;<sub>2</sub>[-6 + k!0] &le; 0)) &and;\n",
       "           &not;(&#957;<sub>2</sub>[-5 + k!0] + -1&middot;&#957;<sub>2</sub>[-4 + k!0] + &#957;<sub>2</sub>[-6 + k!0] &le; -1) &and;\n",
       "           &not;(&#957;<sub>2</sub>[-5 + k!0] +\n",
       "             -1&middot;&#957;<sub>2</sub>[-4 + k!0] +\n",
       "             &#957;<sub>2</sub>[-2 + k!0] +\n",
       "             -1&middot;&#957;<sub>2</sub>[-1 + k!0] +\n",
       "             &#957;<sub>2</sub>[-6 + k!0] &ge;\n",
       "             1) &and;\n",
       "           &#957;<sub>2</sub>[-2 + k!0] &ge; &#957;<sub>2</sub>[-1 + k!0] &and;\n",
       "           k!0 = -2 + k!0) &and;\n",
       "         &#957;<sub>2</sub> = -1 + k!0) &or;\n",
       "       (&exist;k!1 :\n",
       "         &not;(&#957;<sub>1</sub>[-3 + k!1] + -1&middot;&#957;<sub>1</sub>[-4 + k!1] + &#957;<sub>1</sub>[-6 + k!1] &ge; 1) &and;\n",
       "         &not;(&#957;<sub>1</sub>[-3 + k!1] + -1&middot;&#957;<sub>1</sub>[-4 + k!1] + &#957;<sub>1</sub>[-6 + k!1] &le; -1) &and;\n",
       "         (&not;(&#957;<sub>1</sub>[-2 + k!1] + -1&middot;&#957;<sub>1</sub>[-1 + k!1] &le; -1) &or;\n",
       "          &not;(&#957;<sub>1</sub>[-5 + k!1] + -1&middot;&#957;<sub>1</sub>[-4 + k!1] + &#957;<sub>1</sub>[-6 + k!1] &le; 0)) &and;\n",
       "         &not;(&#957;<sub>1</sub>[-5 + k!1] + -1&middot;&#957;<sub>1</sub>[-4 + k!1] + &#957;<sub>1</sub>[-6 + k!1] &le; -1) &and;\n",
       "         &not;(&#957;<sub>1</sub>[-5 + k!1] +\n",
       "           -1&middot;&#957;<sub>1</sub>[-4 + k!1] +\n",
       "           &#957;<sub>1</sub>[-2 + k!1] +\n",
       "           -1&middot;&#957;<sub>1</sub>[-1 + k!1] +\n",
       "           &#957;<sub>1</sub>[-6 + k!1] &ge;\n",
       "           1) &and;\n",
       "         &#957;<sub>1</sub>[-2 + k!1] &ge; &#957;<sub>1</sub>[-1 + k!1] &and;\n",
       "         &#957;<sub>2</sub> = -3 + k!1)],\n",
       " U2 = [else &rarr;\n",
       "       &not;(&#957;<sub>0</sub>[-3 + &#957;<sub>1</sub>] + -1&middot;&#957;<sub>0</sub>[-4 + &#957;<sub>1</sub>] + &#957;<sub>0</sub>[-6 + &#957;<sub>1</sub>] &ge; 1) &and;\n",
       "       &not;(&#957;<sub>0</sub>[-3 + &#957;<sub>1</sub>] + -1&middot;&#957;<sub>0</sub>[-4 + &#957;<sub>1</sub>] + &#957;<sub>0</sub>[-6 + &#957;<sub>1</sub>] &le; -1) &and;\n",
       "       (&not;(&#957;<sub>0</sub>[-2 + &#957;<sub>1</sub>] + -1&middot;&#957;<sub>0</sub>[-1 + &#957;<sub>1</sub>] &le; -1) &or;\n",
       "        &not;(&#957;<sub>0</sub>[-5 + &#957;<sub>1</sub>] + -1&middot;&#957;<sub>0</sub>[-4 + &#957;<sub>1</sub>] + &#957;<sub>0</sub>[-6 + &#957;<sub>1</sub>] &le; 0)) &and;\n",
       "       &not;(&#957;<sub>0</sub>[-5 + &#957;<sub>1</sub>] + -1&middot;&#957;<sub>0</sub>[-4 + &#957;<sub>1</sub>] + &#957;<sub>0</sub>[-6 + &#957;<sub>1</sub>] &le; -1) &and;\n",
       "       &not;(&#957;<sub>0</sub>[-5 + &#957;<sub>1</sub>] +\n",
       "         -1&middot;&#957;<sub>0</sub>[-4 + &#957;<sub>1</sub>] +\n",
       "         &#957;<sub>0</sub>[-2 + &#957;<sub>1</sub>] +\n",
       "         -1&middot;&#957;<sub>0</sub>[-1 + &#957;<sub>1</sub>] +\n",
       "         &#957;<sub>0</sub>[-6 + &#957;<sub>1</sub>] &ge;\n",
       "         1)],\n",
       " U7 = [else &rarr;\n",
       "       &exist;k!0 :\n",
       "        &not;(&#957;<sub>1</sub>[-3 + k!0] + -1&middot;&#957;<sub>1</sub>[-4 + k!0] + &#957;<sub>1</sub>[-6 + k!0] &ge; 1) &and;\n",
       "        &not;(&#957;<sub>1</sub>[-3 + k!0] + -1&middot;&#957;<sub>1</sub>[-4 + k!0] + &#957;<sub>1</sub>[-6 + k!0] &le; -1) &and;\n",
       "        (&not;(&#957;<sub>1</sub>[-2 + k!0] + -1&middot;&#957;<sub>1</sub>[-1 + k!0] &le; -1) &or;\n",
       "         &not;(&#957;<sub>1</sub>[-5 + k!0] + -1&middot;&#957;<sub>1</sub>[-4 + k!0] + &#957;<sub>1</sub>[-6 + k!0] &le; 0)) &and;\n",
       "        &not;(&#957;<sub>1</sub>[-5 + k!0] + -1&middot;&#957;<sub>1</sub>[-4 + k!0] + &#957;<sub>1</sub>[-6 + k!0] &le; -1) &and;\n",
       "        &not;(&#957;<sub>1</sub>[-5 + k!0] +\n",
       "          -1&middot;&#957;<sub>1</sub>[-4 + k!0] +\n",
       "          &#957;<sub>1</sub>[-2 + k!0] +\n",
       "          -1&middot;&#957;<sub>1</sub>[-1 + k!0] +\n",
       "          &#957;<sub>1</sub>[-6 + k!0] &ge;\n",
       "          1) &and;\n",
       "        &#957;<sub>1</sub>[-2 + k!0] &ge; &#957;<sub>1</sub>[-1 + k!0] &and;\n",
       "        &#957;<sub>2</sub> = -2 + k!0],\n",
       " U6 = [else &rarr;\n",
       "       (&exist;k!1, k!0 :\n",
       "         (&exist;k!2 :\n",
       "           &not;(k!2[-3 + k!0] +\n",
       "             -1&middot;k!2[-4 + k!0] +\n",
       "             k!2[-6 + k!0] &ge;\n",
       "             1) &and;\n",
       "           &not;(k!2[-3 + k!0] +\n",
       "             -1&middot;k!2[-4 + k!0] +\n",
       "             k!2[-6 + k!0] &le;\n",
       "             -1) &and;\n",
       "           (&not;(k!2[-2 + k!0] + -1&middot;k!2[-1 + k!0] &le; -1) &or;\n",
       "            &not;(k!2[-5 + k!0] +\n",
       "              -1&middot;k!2[-4 + k!0] +\n",
       "              k!2[-6 + k!0] &le;\n",
       "              0)) &and;\n",
       "           &not;(k!2[-5 + k!0] +\n",
       "             -1&middot;k!2[-4 + k!0] +\n",
       "             k!2[-6 + k!0] &le;\n",
       "             -1) &and;\n",
       "           &not;(k!2[-5 + k!0] +\n",
       "             -1&middot;k!2[-4 + k!0] +\n",
       "             k!2[-2 + k!0] +\n",
       "             -1&middot;k!2[-1 + k!0] +\n",
       "             k!2[-6 + k!0] &ge;\n",
       "             1) &and;\n",
       "           &not;(k!2[-1 + k!0] &le; k!2[-2 + k!0]) &and;\n",
       "..."
      ],
      "text/plain": [
       "[U1 = [else ->\n",
       "       Or(Exists([k!1, k!0],\n",
       "                 And(Not(k!1[-1 + k!0] <= 0),\n",
       "                     Var(2) ==\n",
       "                     Store(Store(k!1, k!0, k!1[-2 + k!0]),\n",
       "                           1 + k!0,\n",
       "                           0),\n",
       "                     Var(3) == 2 + k!0)),\n",
       "          Exists([k!3, k!2],\n",
       "                 And(Not(k!3[-3 + k!2] +\n",
       "                         -1*k!3[-4 + k!2] +\n",
       "                         k!3[-6 + k!2] >=\n",
       "                         1),\n",
       "                     Not(k!3[-3 + k!2] +\n",
       "                         -1*k!3[-4 + k!2] +\n",
       "                         k!3[-6 + k!2] <=\n",
       "                         -1),\n",
       "                     Or(Not(k!3[-2 + k!2] + -1*k!3[-1 + k!2] <=\n",
       "                            -1),\n",
       "                        Not(k!3[-5 + k!2] +\n",
       "                            -1*k!3[-4 + k!2] +\n",
       "                            k!3[-6 + k!2] <=\n",
       "                            0)),\n",
       "                     Not(k!3[-5 + k!2] +\n",
       "                         -1*k!3[-4 + k!2] +\n",
       "                         k!3[-6 + k!2] <=\n",
       "                         -1),\n",
       "                     Not(k!3[-5 + k!2] +\n",
       "                         -1*k!3[-4 + k!2] +\n",
       "                         k!3[-2 + k!2] +\n",
       "                         -1*k!3[-1 + k!2] +\n",
       "                         k!3[-6 + k!2] >=\n",
       "                         1),\n",
       "                     Var(2) ==\n",
       "                     Store(Store(Store(Store(k!3,\n",
       "                                        -2 + k!2,\n",
       "                                        1 + k!3[-4 + k!2]),\n",
       "                                       -1 + k!2,\n",
       "                                       1 +\n",
       "                                       Store(k!3,\n",
       "                                        -2 + k!2,\n",
       "                                        1 + k!3[-4 + k!2])[-3 +\n",
       "                                        k!2]),\n",
       "                                 -4 + k!2,\n",
       "                                 Store(Store(k!3,\n",
       "                                        -2 + k!2,\n",
       "                                        1 + k!3[-4 + k!2]),\n",
       "                                       -1 + k!2,\n",
       "                                       1 +\n",
       "                                       Store(k!3,\n",
       "                                        -2 + k!2,\n",
       "                                        1 + k!3[-4 + k!2])[-3 +\n",
       "                                        k!2])[-2 + k!2]),\n",
       "                           -3 + k!2,\n",
       "                           1 +\n",
       "                           Store(k!3,\n",
       "                                 -2 + k!2,\n",
       "                                 1 + k!3[-4 + k!2])[-3 + k!2]),\n",
       "                     Not(k!3[-1 + k!2] <= k!3[-2 + k!2]),\n",
       "                     Var(3) == -2 + k!2)),\n",
       "          Exists(k!2,\n",
       "                 And(Not(k!2[-3 + Var(2)] <= 0),\n",
       "                     Var(1) ==\n",
       "                     Store(Store(k!2,\n",
       "                                 -2 + Var(2),\n",
       "                                 k!2[-4 + Var(2)]),\n",
       "                           -1 + Var(2),\n",
       "                           0))))],\n",
       " U3 = [else ->\n",
       "       Exists(k!0,\n",
       "              And(Not(Var(1)[-3 + k!0] +\n",
       "                      -1*Var(1)[-4 + k!0] +\n",
       "                      Var(1)[-6 + k!0] >=\n",
       "                      1),\n",
       "                  Not(Var(1)[-3 + k!0] +\n",
       "                      -1*Var(1)[-4 + k!0] +\n",
       "                      Var(1)[-6 + k!0] <=\n",
       "                      -1),\n",
       "                  Or(Not(Var(1)[-2 + k!0] +\n",
       "                         -1*Var(1)[-1 + k!0] <=\n",
       "                         -1),\n",
       "                     Not(Var(1)[-5 + k!0] +\n",
       "                         -1*Var(1)[-4 + k!0] +\n",
       "                         Var(1)[-6 + k!0] <=\n",
       "                         0)),\n",
       "                  Not(Var(1)[-5 + k!0] +\n",
       "                      -1*Var(1)[-4 + k!0] +\n",
       "                      Var(1)[-6 + k!0] <=\n",
       "                      -1),\n",
       "                  Not(Var(1)[-5 + k!0] +\n",
       "                      -1*Var(1)[-4 + k!0] +\n",
       "                      Var(1)[-2 + k!0] +\n",
       "                      -1*Var(1)[-1 + k!0] +\n",
       "                      Var(1)[-6 + k!0] >=\n",
       "                      1),\n",
       "                  Not(Var(1)[-1 + k!0] <= Var(1)[-2 + k!0]),\n",
       "                  Var(2) == -2 + k!0))],\n",
       " U5 = [else ->\n",
       "       Or(Exists(k!2,\n",
       "                 And(Not(k!2[-3 + Var(2)] +\n",
       "                         -1*k!2[-4 + Var(2)] +\n",
       "                         k!2[-6 + Var(2)] >=\n",
       "                         1),\n",
       "                     Not(k!2[-3 + Var(2)] +\n",
       "                         -1*k!2[-4 + Var(2)] +\n",
       "                         k!2[-6 + Var(2)] <=\n",
       "                         -1),\n",
       "                     Or(Not(k!2[-2 + Var(2)] +\n",
       "                            -1*k!2[-1 + Var(2)] <=\n",
       "                            -1),\n",
       "                        Not(k!2[-5 + Var(2)] +\n",
       "                            -1*k!2[-4 + Var(2)] +\n",
       "                            k!2[-6 + Var(2)] <=\n",
       "                            0)),\n",
       "                     Not(k!2[-5 + Var(2)] +\n",
       "                         -1*k!2[-4 + Var(2)] +\n",
       "                         k!2[-6 + Var(2)] <=\n",
       "                         -1),\n",
       "                     Not(k!2[-5 + Var(2)] +\n",
       "                         -1*k!2[-4 + Var(2)] +\n",
       "                         k!2[-2 + Var(2)] +\n",
       "                         -1*k!2[-1 + Var(2)] +\n",
       "                         k!2[-6 + Var(2)] >=\n",
       "                         1),\n",
       "                     Not(k!2[-1 + Var(2)] <=\n",
       "                         k!2[-2 + Var(2)]),\n",
       "                     Var(1) ==\n",
       "                     Store(Store(k!2,\n",
       "                                 -2 + Var(2),\n",
       "                                 1 + k!2[-4 + Var(2)]),\n",
       "                           -1 + Var(2),\n",
       "                           1 +\n",
       "                           Store(k!2,\n",
       "                                 -2 + Var(2),\n",
       "                                 1 + k!2[-4 + Var(2)])[-3 +\n",
       "                             Var(2)]))),\n",
       "          Exists([k!1, k!0],\n",
       "                 And(Exists([k!3, k!2],\n",
       "                            And(Not(k!3[-3 + k!2] +\n",
       "                                    -1*k!3[-4 + k!2] +\n",
       "                                    k!3[-6 + k!2] >=\n",
       "                                    1),\n",
       "                                Not(k!3[-3 + k!2] +\n",
       "                                    -1*k!3[-4 + k!2] +\n",
       "                                    k!3[-6 + k!2] <=\n",
       "                                    -1),\n",
       "                                Or(Not(k!3[-2 + k!2] +\n",
       "                                       -1*k!3[-1 + k!2] <=\n",
       "                                       -1),\n",
       "                                   Not(k!3[-5 + k!2] +\n",
       "                                       -1*k!3[-4 + k!2] +\n",
       "                                       k!3[-6 + k!2] <=\n",
       "                                       0)),\n",
       "                                Not(k!3[-5 + k!2] +\n",
       "                                    -1*k!3[-4 + k!2] +\n",
       "                                    k!3[-6 + k!2] <=\n",
       "                                    -1),\n",
       "                                Not(k!3[-5 + k!2] +\n",
       "                                    -1*k!3[-4 + k!2] +\n",
       "                                    k!3[-2 + k!2] +\n",
       "                                    -1*k!3[-1 + k!2] +\n",
       "                                    k!3[-6 + k!2] >=\n",
       "                                    1),\n",
       "                                k!1 ==\n",
       "                                Store(k!3,\n",
       "                                      -2 + k!2,\n",
       "                                      1 + k!3[-4 + k!2]),\n",
       "                                Not(k!3[-1 + k!2] <=\n",
       "                                    k!3[-2 + k!2]),\n",
       "                                k!0 == -1 + k!2)),\n",
       "                     Var(2) ==\n",
       "                     Store(k!1, k!0, 1 + k!1[-2 + k!0]),\n",
       "                     Var(3) == 1 + k!0)))],\n",
       " U8 = [else ->\n",
       "       Or(Exists(k!0,\n",
       "                 And(Exists(k!0,\n",
       "                            And(Not(Var(2)[-3 + k!0] +\n",
       "                                    -1*Var(2)[-4 + k!0] +\n",
       "                                    Var(2)[-6 + k!0] >=\n",
       "                                    1),\n",
       "                                Not(Var(2)[-3 + k!0] +\n",
       "                                    -1*Var(2)[-4 + k!0] +\n",
       "                                    Var(2)[-6 + k!0] <=\n",
       "                                    -1),\n",
       "                                Or(Not(Var(2)[-2 + k!0] +\n",
       "                                       -1*Var(2)[-1 + k!0] <=\n",
       "                                       -1),\n",
       "                                   Not(Var(2)[-5 + k!0] +\n",
       "                                       -1*Var(2)[-4 + k!0] +\n",
       "                                       Var(2)[-6 + k!0] <=\n",
       "                                       0)),\n",
       "                                Not(Var(2)[-5 + k!0] +\n",
       "                                    -1*Var(2)[-4 + k!0] +\n",
       "                                    Var(2)[-6 + k!0] <=\n",
       "                                    -1),\n",
       "                                Not(Var(2)[-5 + k!0] +\n",
       "                                    -1*Var(2)[-4 + k!0] +\n",
       "                                    Var(2)[-2 + k!0] +\n",
       "                                    -1*Var(2)[-1 + k!0] +\n",
       "                                    Var(2)[-6 + k!0] >=\n",
       "..."
      ]
     },
     "execution_count": 23,
     "metadata": {},
     "output_type": "execute_result"
    }
   ],
   "source": [
    "HyperResolutionProof(s.proof()).to_roadmap()    if res == unsat else s.model()"
   ]
  },
  {
   "cell_type": "markdown",
   "id": "128ed35d-1ab9-4f8d-ae65-b2b7dc470b68",
   "metadata": {},
   "source": [
    "### Exercise\n",
    "Modify some nit in the CHCs for the program above, simulating a buggy program. The result should be `unsat`. Generate the trace with the `HyperResolutionProof` shown above (which is like we did in hardware model checking).\n",
    "Try to uncomment the lines setting the flags `xform.inline_eager` and `xform.inline_linear`, disabling some of Spacer's preprocessing optimizations, in order to get a fuller trace.\n",
    "If you are getting large values for `sp` (_e.g._ 21353), add a constraint somewhere that delimits its range for, say, 0..10."
   ]
  }
 ],
 "metadata": {
  "kernelspec": {
   "display_name": "Python 3 (ipykernel)",
   "language": "python",
   "name": "python3"
  },
  "language_info": {
   "codemirror_mode": {
    "name": "ipython",
    "version": 3
   },
   "file_extension": ".py",
   "mimetype": "text/x-python",
   "name": "python",
   "nbconvert_exporter": "python",
   "pygments_lexer": "ipython3",
   "version": "3.11.9"
  }
 },
 "nbformat": 4,
 "nbformat_minor": 5
}
