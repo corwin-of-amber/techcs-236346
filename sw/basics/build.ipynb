{
 "cells": [
  {
   "cell_type": "code",
   "execution_count": 1,
   "id": "92d8c0f2-60de-413d-9546-5f00c8f971a7",
   "metadata": {},
   "outputs": [],
   "source": [
    "import sys\n",
    "sys.path.append('../../hw/cpu')"
   ]
  },
  {
   "cell_type": "code",
   "execution_count": 2,
   "id": "13ad08bf-c5b6-4d6a-8583-6a534717ba38",
   "metadata": {},
   "outputs": [],
   "source": [
    "from assembler import asm, disasm, disasm_pretty"
   ]
  },
  {
   "cell_type": "code",
   "execution_count": 3,
   "id": "5dffde64-dcfb-4a21-a3d7-5b6f3ebba72b",
   "metadata": {},
   "outputs": [],
   "source": [
    "from toy_progs import BLINK, BLOCKS"
   ]
  },
  {
   "cell_type": "code",
   "execution_count": 4,
   "id": "f8c8ce01-e5e7-46cd-b7eb-95f55c3af8c1",
   "metadata": {},
   "outputs": [
    {
     "data": {
      "text/plain": [
       "{'loop1': 21537, 'wait1': 21540, 'loop2': 21589, 'wait2': 21592}"
      ]
     },
     "execution_count": 4,
     "metadata": {},
     "output_type": "execute_result"
    }
   ],
   "source": [
    "a = asm(BLINK, start_addr=0x5400)\n",
    "a.save_bin('blink.bin')\n",
    "a.label_addrs"
   ]
  },
  {
   "cell_type": "code",
   "execution_count": 5,
   "id": "847918ac-c673-4bcd-843f-5aaf0dfabca8",
   "metadata": {},
   "outputs": [
    {
     "name": "stdout",
     "output_type": "stream",
     "text": [
      "5421 loop1\n",
      "5424 wait1\n",
      "5455 loop2\n",
      "5458 wait2\n"
     ]
    }
   ],
   "source": [
    "# Display label addresses\n",
    "for k, v in a.label_addrs.items():\n",
    "    print(\"%04x %s\" % (v, k))"
   ]
  },
  {
   "cell_type": "code",
   "execution_count": 6,
   "id": "0824ff0a-2b6a-4cf8-ba18-51778ab0f0f9",
   "metadata": {},
   "outputs": [
    {
     "name": "stdout",
     "output_type": "stream",
     "text": [
      "0000 PUSH f\n",
      "0001 PUSH 0\n",
      "0002 DUP 1\n",
      "0003 POP 2\n",
      "0004 ALU c\n",
      "0005 POP 1\n",
      "0006 JZ 11\n",
      "0007 PUSH b\n",
      "0008 DUP 1\n",
      "0009 PUSH 3\n",
      "000a JMP 12\n",
      "000b PUSH 1\n",
      "000c POP 2\n",
      "000d ALU 2\n",
      "000e PUSH 10\n",
      "000f JMP 3b\n",
      "0010 JMP 1\n",
      "0011 HALT 0\n",
      "0012 PUSH 1f\n",
      "0013 DUP 2\n",
      "0014 DUP 2\n",
      "0015 PUSH 7\n",
      "0016 POP 2\n",
      "0017 ALU 5\n",
      "0018 POP 2\n",
      "0019 ALU 1\n",
      "001a PUSH a000\n",
      "001b POP 2\n",
      "001c ALU 1\n",
      "001d PUSH 8\n",
      "001e JMP 22\n",
      "001f POP 2\n",
      "0020 POP 1\n",
      "0021 RET 0\n",
      "0022 PUSH 0\n",
      "0023 DUP 1\n",
      "0024 POP 2\n",
      "0025 ALU c\n",
      "0026 POP 1\n",
      "0027 JZ 38\n",
      "0028 DUP 0\n",
      "0029 PUSH 4\n",
      "002a POP 2\n",
      "002b ALU 5\n",
      "002c DUP 2\n",
      "002d POP 2\n",
      "002e ALU 1\n",
      "002f PUSH ff\n",
      "0030 DUP 1\n",
      "0031 POP 2\n",
      "0032 STOR 0\n",
      "0033 POP 1\n",
      "0034 PUSH 1\n",
      "0035 POP 2\n",
      "0036 ALU 2\n",
      "0037 JMP 22\n",
      "0038 POP 2\n",
      "0039 POP 1\n",
      "003a RET 0\n",
      "003b PUSH c000\n",
      "003c POP 1\n",
      "003d LOAD 0\n",
      "003e PUSH c000\n",
      "003f POP 1\n",
      "0040 LOAD 0\n",
      "0041 DUP 1\n",
      "0042 POP 2\n",
      "0043 ALU 2\n",
      "0044 POP 1\n",
      "0045 JZ 3e\n",
      "0046 POP 1\n",
      "0047 POP 1\n",
      "0048 RET 0\n",
      "0049 PUSH 0\n",
      "004a DUP 1\n",
      "004b POP 2\n",
      "004c ALU c\n",
      "004d POP 1\n",
      "004e JZ 53\n",
      "004f PUSH 1\n",
      "0050 POP 2\n",
      "0051 ALU 2\n",
      "0052 JMP 49\n",
      "0053 POP 1\n",
      "0054 POP 1\n",
      "0055 RET 0\n"
     ]
    }
   ],
   "source": [
    "# Disassemble and pretty-print instructions\n",
    "disasm_pretty(open('blocks.bin','rb').read(), start_addr=0)"
   ]
  },
  {
   "cell_type": "code",
   "execution_count": 7,
   "id": "c95f29c1-67b8-47b8-93a1-c56cef9ad7bb",
   "metadata": {},
   "outputs": [],
   "source": [
    "a = asm(BLOCKS, start_addr=0x5400)\n",
    "a.save_bin('BLOCKS.bin')"
   ]
  }
 ],
 "metadata": {
  "kernelspec": {
   "display_name": "Python 3 (ipykernel)",
   "language": "python",
   "name": "python3"
  },
  "language_info": {
   "codemirror_mode": {
    "name": "ipython",
    "version": 3
   },
   "file_extension": ".py",
   "mimetype": "text/x-python",
   "name": "python",
   "nbconvert_exporter": "python",
   "pygments_lexer": "ipython3",
   "version": "3.10.11"
  }
 },
 "nbformat": 4,
 "nbformat_minor": 5
}
