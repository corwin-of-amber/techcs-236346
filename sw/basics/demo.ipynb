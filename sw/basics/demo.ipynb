{
 "cells": [
  {
   "cell_type": "code",
   "execution_count": 2,
   "id": "f3fbd691-3bbc-4ce8-8d5e-5ade5b188604",
   "metadata": {},
   "outputs": [],
   "source": [
    "from asm_interp import AsmInterp"
   ]
  },
  {
   "cell_type": "code",
   "execution_count": 9,
   "id": "5969f226-883f-454e-ba17-dee869be445d",
   "metadata": {},
   "outputs": [
    {
     "name": "stdout",
     "output_type": "stream",
     "text": [
      "stack: [0]\n",
      "r0: 0, r1: 200\n",
      "mem: [0, 0, 0, 0, 0, 0, 0, 0, 0, 0, 0, 0, 0, 0, 0, 0, 0, 0, 0, 0, 0, 0, 0, 0, 0, 0, 0, 0, 0, 0, 0, 0, 0, 0, 0, 0, 0, 0, 0, 0, 0, 0, 0, 0, 0, 0, 0, 0, 0, 0, 0, 0, 0, 0, 0, 0, 0, 0, 0, 0, 0, 0, 0, 0, 0, 0, 0, 0, 0, 0, 0, 0, 0, 0, 0, 0, 0, 0, 0, 0, 0, 0, 0, 0, 0, 0, 0, 0, 0, 0, 0, 0, 0, 0, 0, 0, 0, 0, 0, 0, 0, 0, 0, 0, 0, 0, 0, 0, 0, 0, 0, 0, 0, 0, 0, 0, 0, 0, 0, 0, 0, 0, 0, 0, 0, 0, 0, 0, 0, 0, 0, 0, 0, 0, 0, 0, 0, 0, 0, 0, 0, 0, 0, 0, 0, 0, 0, 0, 0, 0, 0, 0, 0, 0, 0, 0, 0, 0, 0, 0, 0, 0, 0, 0, 0, 0, 0, 0, 0, 0, 0, 0, 0, 0, 0, 0, 0, 0, 0, 0, 0, 0, 0, 0, 0, 0, 0, 0, 0, 0, 0, 0, 0, 0, 0, 0, 0, 0, 0, 0, 0, 1, 2, 3, 4, 5, 6, 7, 8, 9, 10, 11, 12, 13]\n"
     ]
    }
   ],
   "source": [
    "sm = AsmInterp()\n",
    "sm.execute_program([\n",
    "    ('PUSH', 5),\n",
    "    ('PUSH', 9),\n",
    "    ('POP', 2),\n",
    "    ('ALU', 'ADD'),\n",
    "    'loop:',\n",
    "    ('PUSH', 1), ('POP', 2), ('ALU', 'SUB'),\n",
    "    ('DUP',), ('DUP',), ('PUSH', 200), ('POP', 2), \n",
    "    ('ALU', 'ADD'), ('POP', 2),\n",
    "    ('STOR',),\n",
    "    ('DUP',), ('POP',), ('JNZ', 'loop')\n",
    "])\n",
    "print(sm)"
   ]
  },
  {
   "cell_type": "code",
   "execution_count": null,
   "id": "4974e272-a030-4f31-83b3-ff772795dd13",
   "metadata": {},
   "outputs": [],
   "source": []
  }
 ],
 "metadata": {
  "kernelspec": {
   "display_name": "Python 3 (ipykernel)",
   "language": "python",
   "name": "python3"
  },
  "language_info": {
   "codemirror_mode": {
    "name": "ipython",
    "version": 3
   },
   "file_extension": ".py",
   "mimetype": "text/x-python",
   "name": "python",
   "nbconvert_exporter": "python",
   "pygments_lexer": "ipython3",
   "version": "3.13.2"
  }
 },
 "nbformat": 4,
 "nbformat_minor": 5
}
