{
 "cells": [
  {
   "cell_type": "code",
   "execution_count": 1,
   "id": "8d28e140-a330-4493-8d6d-a4f1c3f07a89",
   "metadata": {},
   "outputs": [],
   "source": [
    "from parser import IRParser"
   ]
  },
  {
   "cell_type": "code",
   "execution_count": 5,
   "id": "d1f01b41-33a4-4f36-8be2-6fe4987f6b61",
   "metadata": {},
   "outputs": [],
   "source": [
    "p = IRParser()"
   ]
  },
  {
   "cell_type": "code",
   "execution_count": 6,
   "id": "aee7fd3f-f67e-45d2-8303-1f5fe44753e2",
   "metadata": {},
   "outputs": [
    {
     "data": {
      "text/plain": [
       "('@', 'wait', Const(value=5))"
      ]
     },
     "execution_count": 6,
     "metadata": {},
     "output_type": "execute_result"
    }
   ],
   "source": [
    "p.body('wait 5')"
   ]
  },
  {
   "cell_type": "code",
   "execution_count": 7,
   "id": "df3dc2c2-8da9-4c90-81f3-f05bf8e925b5",
   "metadata": {},
   "outputs": [
    {
     "data": {
      "text/plain": [
       "[FuncDef(name='hi', nargs=0, ret=True, body=('@', 'wait', Const(value=5)))]"
      ]
     },
     "execution_count": 7,
     "metadata": {},
     "output_type": "execute_result"
    }
   ],
   "source": [
    "p('hi(0) = wait 5')"
   ]
  },
  {
   "cell_type": "code",
   "execution_count": 9,
   "id": "27d9a4f1-7920-4a27-80cd-4ddec6fdbe03",
   "metadata": {},
   "outputs": [
    {
     "data": {
      "text/plain": [
       "[FuncDef(name='fact', nargs=1, ret=True, body=If(cond=('<', Const(value=1), Var(offset=0)), then=('*', ('@', 'fact', ('-', Var(offset=0), Const(value=1))), Var(offset=0)), else_=Const(value=1)))]"
      ]
     },
     "execution_count": 9,
     "metadata": {},
     "output_type": "execute_result"
    }
   ],
   "source": [
    "p('''\n",
    "fact(1) = \n",
    "  if 1 < $0 then fact ($0 - 1) * $0\n",
    "  else 1\n",
    "''')"
   ]
  },
  {
   "cell_type": "code",
   "execution_count": 11,
   "id": "909838ca-4b75-46d2-824d-080a6db6c447",
   "metadata": {},
   "outputs": [
    {
     "data": {
      "text/plain": [
       "[FuncDef(name='wait', nargs=0, ret=True, body=Seq(stmts=[('@', 'mem_peek', Const(value=49153)), ('@', 'wait_aux')])),\n",
       " FuncDef(name='wait_aux', nargs=0, ret=True, body=If(cond=('-', ('@', 'mem_peek', Const(value=49153)), Var(offset=1)), then=('@', 'mem_peek', Const(value=49152)), else_=('@', 'wait_aux')))]"
      ]
     },
     "execution_count": 11,
     "metadata": {},
     "output_type": "execute_result"
    }
   ],
   "source": [
    "# This is a useful function that waits for the next data word from GPIO\n",
    "p('''\n",
    "wait(0) = mem_peek 0xc001; wait_aux\n",
    "wait_aux(0) = \n",
    "    if (mem_peek 0xc001) - $1 /* < access closure */\n",
    "    then mem_peek 0xc000 else wait_aux\n",
    "''')"
   ]
  },
  {
   "cell_type": "code",
   "execution_count": null,
   "id": "4a459f69-daf4-4df7-aae5-ec5475cc5d46",
   "metadata": {},
   "outputs": [],
   "source": []
  }
 ],
 "metadata": {
  "kernelspec": {
   "display_name": "Python 3 (ipykernel)",
   "language": "python",
   "name": "python3"
  },
  "language_info": {
   "codemirror_mode": {
    "name": "ipython",
    "version": 3
   },
   "file_extension": ".py",
   "mimetype": "text/x-python",
   "name": "python",
   "nbconvert_exporter": "python",
   "pygments_lexer": "ipython3",
   "version": "3.10.11"
  }
 },
 "nbformat": 4,
 "nbformat_minor": 5
}
