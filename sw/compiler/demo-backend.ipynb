{
 "cells": [
  {
   "cell_type": "code",
   "execution_count": 1,
   "id": "a0339adf-b6ee-4ed1-a4f1-7f92aec72e7c",
   "metadata": {},
   "outputs": [],
   "source": [
    "import sys\n",
    "sys.path[:0] = ['../../ref/sw/compiler', '../basics']"
   ]
  },
  {
   "cell_type": "code",
   "execution_count": 2,
   "id": "31279aa5-4e17-4500-8495-172450845d10",
   "metadata": {},
   "outputs": [],
   "source": [
    "from parser import IRParser\n",
    "from backend import CompilerBackend"
   ]
  },
  {
   "cell_type": "code",
   "execution_count": 3,
   "id": "97d540cf-1359-43fe-9bad-bee027ff70e3",
   "metadata": {},
   "outputs": [],
   "source": [
    "p = IRParser()\n",
    "cb = CompilerBackend()"
   ]
  },
  {
   "cell_type": "code",
   "execution_count": 4,
   "id": "e9886ab6-83f8-4c46-9cbc-d198569771c7",
   "metadata": {},
   "outputs": [],
   "source": [
    "cb.funcs(p('''\n",
    "fact(1) = \n",
    "  if 1 < $0 then fact ($0 - 1) * $0\n",
    "  else 1\n",
    "'''))"
   ]
  },
  {
   "cell_type": "code",
   "execution_count": 5,
   "id": "4b7a7999-5aea-4317-9a17-0179f5f4f909",
   "metadata": {},
   "outputs": [
    {
     "data": {
      "text/plain": [
       "['fact',\n",
       " ('PUSH', 1),\n",
       " ('DUP', 1),\n",
       " ('POP', 2),\n",
       " ('ALU', 'LT'),\n",
       " ('POP', 1),\n",
       " ('JZ', 'fact:0'),\n",
       " ('PUSH', 'fact:1'),\n",
       " ('DUP', 1),\n",
       " ('PUSH', 1),\n",
       " ('POP', 2),\n",
       " ('ALU', 'SUB'),\n",
       " ('JMP', 'fact'),\n",
       " 'fact:1',\n",
       " ('DUP', 1),\n",
       " ('POP', 2),\n",
       " ('ALU', 'MUL'),\n",
       " ('JMP', 'fact:2'),\n",
       " 'fact:0',\n",
       " ('PUSH', 1),\n",
       " 'fact:2',\n",
       " ('YANK', (1, 1)),\n",
       " ('POP', 2),\n",
       " ('RET', 1)]"
      ]
     },
     "execution_count": 5,
     "metadata": {},
     "output_type": "execute_result"
    }
   ],
   "source": [
    "cb.code"
   ]
  },
  {
   "cell_type": "code",
   "execution_count": 6,
   "id": "d172dc95-96eb-4a49-abc7-1102ed579112",
   "metadata": {},
   "outputs": [],
   "source": [
    "from asm_interp import AsmInterp\n",
    "\n",
    "ai = AsmInterp()"
   ]
  },
  {
   "cell_type": "code",
   "execution_count": 7,
   "id": "0642b9fa-b8b9-47e7-89d6-282cfc4d4280",
   "metadata": {},
   "outputs": [],
   "source": [
    "ai.stack = [99, 5]\n",
    "#ai.trace = True\n",
    "ai.execute_program(cb.code)"
   ]
  },
  {
   "cell_type": "code",
   "execution_count": 9,
   "id": "00612bf9-53a4-4b67-be7c-ad4618a0e4ad",
   "metadata": {},
   "outputs": [
    {
     "data": {
      "text/plain": [
       "[120]"
      ]
     },
     "execution_count": 9,
     "metadata": {},
     "output_type": "execute_result"
    }
   ],
   "source": [
    "ai.stack"
   ]
  },
  {
   "cell_type": "code",
   "execution_count": null,
   "id": "42bda03e-963d-4785-997b-53dc2759f978",
   "metadata": {},
   "outputs": [],
   "source": []
  }
 ],
 "metadata": {
  "kernelspec": {
   "display_name": "Python 3 (ipykernel)",
   "language": "python",
   "name": "python3"
  },
  "language_info": {
   "codemirror_mode": {
    "name": "ipython",
    "version": 3
   },
   "file_extension": ".py",
   "mimetype": "text/x-python",
   "name": "python",
   "nbconvert_exporter": "python",
   "pygments_lexer": "ipython3",
   "version": "3.13.2"
  }
 },
 "nbformat": 4,
 "nbformat_minor": 5
}
