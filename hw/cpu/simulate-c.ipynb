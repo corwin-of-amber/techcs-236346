{
 "cells": [
  {
   "cell_type": "code",
   "execution_count": 7,
   "id": "3e73a7a8-539c-4aa3-8220-99d285816d15",
   "metadata": {},
   "outputs": [],
   "source": [
    "import sys\n",
    "sys.path.append(\"../base\")\n",
    "\n",
    "import boilerplate\n",
    "from pyrtl import *"
   ]
  },
  {
   "cell_type": "code",
   "execution_count": 12,
   "id": "9fc1aab8-ea6d-45d5-9a94-4cae41111300",
   "metadata": {},
   "outputs": [],
   "source": [
    "reset_working_block()\n",
    "\n",
    "pc = Register(name='pc', bitwidth=4)\n",
    "sp = Register(name='sp', bitwidth=4)\n",
    "mem = MemBlock(name='mem', bitwidth=4, addrwidth=4,\n",
    "               max_read_ports=20)\n",
    "rom = RomBlock(name='rom', bitwidth=4, addrwidth=4, romdata=[0x1, 0x5, 0x1, 0x8, 0x2, 0xf],\n",
    "               asynchronous=True, pad_with_zeros=True)\n",
    "\n",
    "out = Output(name='out', bitwidth=4)"
   ]
  },
  {
   "cell_type": "code",
   "execution_count": 13,
   "id": "935f93b5-e268-4595-965d-9b11117b852c",
   "metadata": {},
   "outputs": [],
   "source": [
    "instr = rom[pc]\n",
    "earg = rom[(pc+1)[:4]]\n",
    "out <<= mem[sp]\n",
    "\n",
    "with conditional_assignment:\n",
    "    with instr == 0x1:   # PUSH\n",
    "        mem[sp] |= earg\n",
    "        sp.next |= sp + 1\n",
    "        pc.next |= pc + 2\n",
    "    with instr == 0x2:      # POP\n",
    "        sp.next |= sp - 1\n",
    "        pc.next |= pc + 1"
   ]
  },
  {
   "cell_type": "markdown",
   "id": "17ee641e-ae1e-499d-af8c-eb0a1d114788",
   "metadata": {},
   "source": [
    "##### Debug ports -- _so that we see some feedback during simulation_"
   ]
  },
  {
   "cell_type": "code",
   "execution_count": 18,
   "id": "bb60cb77-64a9-43d3-80c0-7b3a1fc18a2a",
   "metadata": {},
   "outputs": [],
   "source": [
    "d_sp = Output(name='d_sp', bitwidth=4)\n",
    "d_pc = Output(name='d_pc', bitwidth=4)\n",
    "d_instr = Output(name='d_instr', bitwidth=4)\n",
    "\n",
    "d_sp <<= sp\n",
    "d_pc <<= pc\n",
    "d_instr <<= instr\n",
    "\n",
    "# Debug the lowest 16 memory addresses\n",
    "d_memaddrs = range(16)\n",
    "reads = [mem[i] for i in d_memaddrs]\n",
    "arr = Output(bitwidth=len(reads)*16, name=\"d_mem\")\n",
    "arr <<= concat_list(reads)"
   ]
  },
  {
   "cell_type": "markdown",
   "id": "df7dae81-96ea-4225-9f0e-62d03aa9fb68",
   "metadata": {
    "jp-MarkdownHeadingCollapsed": true
   },
   "source": [
    "#### Display adapter"
   ]
  },
  {
   "cell_type": "code",
   "execution_count": 5,
   "id": "5a956771-43e8-41b0-b2fc-9205da6f01ae",
   "metadata": {},
   "outputs": [],
   "source": [
    "vid_y = Output(name='vid_y', bitwidth=8)\n",
    "vid_out = Output(name='vid_out', bitwidth=256)\n",
    "\n",
    "vid_scan = Register(name='vid_scan', bitwidth=5)\n",
    "vid_scan.next <<= vid_scan + 1\n",
    "vid_y <<= 18 + vid_scan\n",
    "vid_out <<= 0xff0f0ff0000"
   ]
  },
  {
   "cell_type": "markdown",
   "id": "51c17671-9bc7-42d1-9a89-b4611c2bae02",
   "metadata": {},
   "source": [
    "### Simulation in C"
   ]
  },
  {
   "cell_type": "code",
   "execution_count": 14,
   "id": "56e7aabf-7cfc-481b-9b8e-4169579cf995",
   "metadata": {},
   "outputs": [],
   "source": [
    "import os\n",
    "from simulate import CCompiledSimulation"
   ]
  },
  {
   "cell_type": "code",
   "execution_count": 19,
   "id": "2fa22978-7ab0-4d87-bd32-421e6c209791",
   "metadata": {},
   "outputs": [
    {
     "data": {
      "text/plain": [
       "<simulate.simulation_utils.CCompiledSimulation at 0x105690550>"
      ]
     },
     "execution_count": 19,
     "metadata": {},
     "output_type": "execute_result"
    }
   ],
   "source": [
    "CCompiledSimulation(out_dir=\"obj\")"
   ]
  },
  {
   "cell_type": "code",
   "execution_count": 20,
   "id": "07551673-6052-4423-8453-9bf812672a57",
   "metadata": {},
   "outputs": [
    {
     "name": "stdout",
     "output_type": "stream",
     "text": [
      "gcc -O3 -Iobj -c -o obj/csim.o obj/csim.c\n",
      "g++ -O3 -Iobj -std=c++11 -DNO_DEBUG_MEM -c -o obj/csim_main.o simulate/csim_main.cpp\n",
      "g++ -pthread -o bin/csim obj/csim.o obj/csim_main.o\n"
     ]
    },
    {
     "data": {
      "text/plain": [
       "0"
      ]
     },
     "execution_count": 20,
     "metadata": {},
     "output_type": "execute_result"
    }
   ],
   "source": [
    "os.system(\"make\")"
   ]
  },
  {
   "cell_type": "code",
   "execution_count": 9,
   "id": "fc536b43-ef38-4440-aa9a-fd0baee02079",
   "metadata": {},
   "outputs": [],
   "source": [
    "# If you don't have GNU make\n",
    "if 0:\n",
    "    os.system(\"gcc -O3 -Iobj -c obj/csim.c\")\n",
    "    os.system(\"g++ -pthread -Iobj --std=c++11 obj/csim.o simulate/csim_main.cpp -o bin/csim\")"
   ]
  },
  {
   "cell_type": "code",
   "execution_count": 21,
   "id": "2ed5fab9-41ae-4276-910a-f5026e36464e",
   "metadata": {},
   "outputs": [
    {
     "name": "stdout",
     "output_type": "stream",
     "text": [
      "0000 0000   00000001\n",
      "     0000 0000 0000 0000 0000 0000 0000 0000\n",
      "     0000 0000 0000 0000 0000 0000 0000 0000\n",
      "0002 0001   00000001\n",
      "     0005 0000 0000 0000 0000 0000 0000 0000\n",
      "     0000 0000 0000 0000 0000 0000 0000 0000\n",
      "0004 0002   00000002\n",
      "     0085 0000 0000 0000 0000 0000 0000 0000\n",
      "     0000 0000 0000 0000 0000 0000 0000 0000\n",
      "0005 0001   0000000f\n",
      "     0085 0000 0000 0000 0000 0000 0000 0000\n",
      "     0000 0000 0000 0000 0000 0000 0000 0000\n",
      "[info] Simulation time: 0.122208ms\n",
      "[info] # cycles: 4\n",
      "[info] 0.0327311MHz\n"
     ]
    }
   ],
   "source": [
    "os.environ['DEBUG_CPU'] = '1'\n",
    "os.environ['DEBUG_MEM'] = '1'\n",
    "os.environ['MAX_CYCLES'] = '20'\n",
    "os.environ['OUT_DISPLAY'] = '0'\n",
    "os.system('bin/csim');"
   ]
  },
  {
   "cell_type": "code",
   "execution_count": null,
   "id": "d5a39c39-3925-479c-8d2f-c1cf9e80f637",
   "metadata": {},
   "outputs": [],
   "source": []
  }
 ],
 "metadata": {
  "kernelspec": {
   "display_name": "Python 3 (ipykernel)",
   "language": "python",
   "name": "python3"
  },
  "language_info": {
   "codemirror_mode": {
    "name": "ipython",
    "version": 3
   },
   "file_extension": ".py",
   "mimetype": "text/x-python",
   "name": "python",
   "nbconvert_exporter": "python",
   "pygments_lexer": "ipython3",
   "version": "3.13.2"
  }
 },
 "nbformat": 4,
 "nbformat_minor": 5
}
